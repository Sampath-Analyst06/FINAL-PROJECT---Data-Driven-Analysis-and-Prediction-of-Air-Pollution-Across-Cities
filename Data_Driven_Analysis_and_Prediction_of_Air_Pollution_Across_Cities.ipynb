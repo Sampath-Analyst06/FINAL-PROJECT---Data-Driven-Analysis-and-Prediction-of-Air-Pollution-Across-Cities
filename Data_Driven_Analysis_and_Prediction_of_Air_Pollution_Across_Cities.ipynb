{
  "nbformat": 4,
  "nbformat_minor": 0,
  "metadata": {
    "colab": {
      "provenance": []
    },
    "kernelspec": {
      "name": "python3",
      "display_name": "Python 3"
    },
    "language_info": {
      "name": "python"
    }
  },
  "cells": [
    {
      "cell_type": "markdown",
      "source": [
        "#**Data-Driven Analysis and Prediction of Air Pollution Across Cities**"
      ],
      "metadata": {
        "id": "Zcs6WRuKaa99"
      }
    },
    {
      "cell_type": "markdown",
      "source": [
        "**PROBLEM STATEMENT**\n",
        "\n",
        "- Air pollution has become one of the most critical environmental and health challenges in urban areas.\n",
        "- Rising Air Quality Index (AQI) levels across cities cause severe health risks, environmental damage, and economic losses.\n",
        "- While AQI data is available for multiple cities, meaningful prediction of future pollution levels and identification of pollution patterns is often lacking.\n",
        "- There is a need for a data-driven approach that can both analyze historical AQI trends and predict future air quality to support better decision-making."
      ],
      "metadata": {
        "id": "DShaTssOh3wH"
      }
    },
    {
      "cell_type": "markdown",
      "source": [
        "##**OBJECTIVE**\n",
        "\n",
        "To Predict the Air Pollution Across the Cities in all over the More Countries During the Months in January to December"
      ],
      "metadata": {
        "id": "EGrnsEUofPvu"
      }
    },
    {
      "cell_type": "markdown",
      "source": [
        "- **DOMAIN**\n",
        "\n",
        "ENVIRONMENT DATA  ( AIR QUALITY PREDICTION )"
      ],
      "metadata": {
        "id": "HPdmV8Khkg7d"
      }
    },
    {
      "cell_type": "markdown",
      "source": [
        "- **SOURCE**\n",
        "\n",
        "KAGGLE"
      ],
      "metadata": {
        "id": "mFlunMc3mHOJ"
      }
    },
    {
      "cell_type": "markdown",
      "source": [
        "- **TIMELINE**\n",
        "\n",
        "YEAR -2024"
      ],
      "metadata": {
        "id": "sTlGQ9DQlBpp"
      }
    },
    {
      "cell_type": "markdown",
      "source": [
        "- **LOCATION**\n",
        "\n",
        "The dataset contains many cities across all over the countries like (India,China,Brazil,Etc....)"
      ],
      "metadata": {
        "id": "krlLKnkRmUJK"
      }
    },
    {
      "cell_type": "markdown",
      "source": [
        "- **TYPE OF PROBLEM**\n",
        "\n",
        "Its a Regression Problem"
      ],
      "metadata": {
        "id": "e5Z7PZmKnS3i"
      }
    },
    {
      "cell_type": "markdown",
      "source": [
        "- **ALGORITHMS FOR THE REGRESSION MODEL**\n",
        "\n",
        "- Liner Regresssion\n",
        "- Random Forest Regressor\n",
        "- Decission Tree Regressor\n",
        "\n",
        "For predecting\n",
        "\n",
        "\n"
      ],
      "metadata": {
        "id": "6SmAw46iaHKp"
      }
    },
    {
      "cell_type": "markdown",
      "source": [
        "#**STAGE - 1**\n",
        "(INITIAL EDA)"
      ],
      "metadata": {
        "id": "WMAYKl1Pnrcl"
      }
    },
    {
      "cell_type": "code",
      "execution_count": 1,
      "metadata": {
        "id": "PTIJraZQqf0u"
      },
      "outputs": [],
      "source": [
        "import pandas as pd\n",
        "import numpy as np\n",
        "import matplotlib.pyplot as plt\n",
        "import seaborn as sns"
      ]
    },
    {
      "cell_type": "markdown",
      "source": [
        "Data Importation\n"
      ],
      "metadata": {
        "id": "KzFIhhkNpiBi"
      }
    },
    {
      "cell_type": "code",
      "source": [
        "url=\"https://raw.githubusercontent.com/Sampath-Analyst06/FINAL-PROJECT---Data-Driven-Analysis-and-Prediction-of-Air-Pollution-Across-Cities/refs/heads/main/aqi_data.csv\"\n",
        "df=pd.read_csv(url)\n"
      ],
      "metadata": {
        "id": "2pyA1ePJpncG"
      },
      "execution_count": 3,
      "outputs": []
    },
    {
      "cell_type": "markdown",
      "source": [
        "1.Head of the Dataset\n"
      ],
      "metadata": {
        "id": "DRrbo7x-qc69"
      }
    },
    {
      "cell_type": "code",
      "source": [
        "df.head()"
      ],
      "metadata": {
        "colab": {
          "base_uri": "https://localhost:8080/",
          "height": 206
        },
        "id": "Hi60BOXLuIgU",
        "outputId": "0f94d6eb-6bb6-40e4-a8eb-35c23acecf53"
      },
      "execution_count": 4,
      "outputs": [
        {
          "output_type": "execute_result",
          "data": {
            "text/plain": [
              "   rank              city  avg  jan  feb  mar  apr  may  jun  jul  aug  sep  \\\n",
              "0     1  Begusarai, India  223  413  337  250  258  209  205  131  115  100   \n",
              "1     2      Patna, India  212  354  297  225  230  169  183   82  100   84   \n",
              "2     3    Saharsa, India  207  418  344  238  220  167  149   85   93   91   \n",
              "3     4  New Delhi, India  205  325  244  167  181  175  124   70  110   91   \n",
              "4     5      Noida, India  201  304  212  154  187  176  129   70  125  118   \n",
              "\n",
              "   oct  nov  dec  \n",
              "0  114  298  249  \n",
              "1  136  402  277  \n",
              "2  110  282  292  \n",
              "3  210  405  352  \n",
              "4  237  367  338  "
            ],
            "text/html": [
              "\n",
              "  <div id=\"df-9c517614-0303-4b1c-840f-65cc3d93dd83\" class=\"colab-df-container\">\n",
              "    <div>\n",
              "<style scoped>\n",
              "    .dataframe tbody tr th:only-of-type {\n",
              "        vertical-align: middle;\n",
              "    }\n",
              "\n",
              "    .dataframe tbody tr th {\n",
              "        vertical-align: top;\n",
              "    }\n",
              "\n",
              "    .dataframe thead th {\n",
              "        text-align: right;\n",
              "    }\n",
              "</style>\n",
              "<table border=\"1\" class=\"dataframe\">\n",
              "  <thead>\n",
              "    <tr style=\"text-align: right;\">\n",
              "      <th></th>\n",
              "      <th>rank</th>\n",
              "      <th>city</th>\n",
              "      <th>avg</th>\n",
              "      <th>jan</th>\n",
              "      <th>feb</th>\n",
              "      <th>mar</th>\n",
              "      <th>apr</th>\n",
              "      <th>may</th>\n",
              "      <th>jun</th>\n",
              "      <th>jul</th>\n",
              "      <th>aug</th>\n",
              "      <th>sep</th>\n",
              "      <th>oct</th>\n",
              "      <th>nov</th>\n",
              "      <th>dec</th>\n",
              "    </tr>\n",
              "  </thead>\n",
              "  <tbody>\n",
              "    <tr>\n",
              "      <th>0</th>\n",
              "      <td>1</td>\n",
              "      <td>Begusarai, India</td>\n",
              "      <td>223</td>\n",
              "      <td>413</td>\n",
              "      <td>337</td>\n",
              "      <td>250</td>\n",
              "      <td>258</td>\n",
              "      <td>209</td>\n",
              "      <td>205</td>\n",
              "      <td>131</td>\n",
              "      <td>115</td>\n",
              "      <td>100</td>\n",
              "      <td>114</td>\n",
              "      <td>298</td>\n",
              "      <td>249</td>\n",
              "    </tr>\n",
              "    <tr>\n",
              "      <th>1</th>\n",
              "      <td>2</td>\n",
              "      <td>Patna, India</td>\n",
              "      <td>212</td>\n",
              "      <td>354</td>\n",
              "      <td>297</td>\n",
              "      <td>225</td>\n",
              "      <td>230</td>\n",
              "      <td>169</td>\n",
              "      <td>183</td>\n",
              "      <td>82</td>\n",
              "      <td>100</td>\n",
              "      <td>84</td>\n",
              "      <td>136</td>\n",
              "      <td>402</td>\n",
              "      <td>277</td>\n",
              "    </tr>\n",
              "    <tr>\n",
              "      <th>2</th>\n",
              "      <td>3</td>\n",
              "      <td>Saharsa, India</td>\n",
              "      <td>207</td>\n",
              "      <td>418</td>\n",
              "      <td>344</td>\n",
              "      <td>238</td>\n",
              "      <td>220</td>\n",
              "      <td>167</td>\n",
              "      <td>149</td>\n",
              "      <td>85</td>\n",
              "      <td>93</td>\n",
              "      <td>91</td>\n",
              "      <td>110</td>\n",
              "      <td>282</td>\n",
              "      <td>292</td>\n",
              "    </tr>\n",
              "    <tr>\n",
              "      <th>3</th>\n",
              "      <td>4</td>\n",
              "      <td>New Delhi, India</td>\n",
              "      <td>205</td>\n",
              "      <td>325</td>\n",
              "      <td>244</td>\n",
              "      <td>167</td>\n",
              "      <td>181</td>\n",
              "      <td>175</td>\n",
              "      <td>124</td>\n",
              "      <td>70</td>\n",
              "      <td>110</td>\n",
              "      <td>91</td>\n",
              "      <td>210</td>\n",
              "      <td>405</td>\n",
              "      <td>352</td>\n",
              "    </tr>\n",
              "    <tr>\n",
              "      <th>4</th>\n",
              "      <td>5</td>\n",
              "      <td>Noida, India</td>\n",
              "      <td>201</td>\n",
              "      <td>304</td>\n",
              "      <td>212</td>\n",
              "      <td>154</td>\n",
              "      <td>187</td>\n",
              "      <td>176</td>\n",
              "      <td>129</td>\n",
              "      <td>70</td>\n",
              "      <td>125</td>\n",
              "      <td>118</td>\n",
              "      <td>237</td>\n",
              "      <td>367</td>\n",
              "      <td>338</td>\n",
              "    </tr>\n",
              "  </tbody>\n",
              "</table>\n",
              "</div>\n",
              "    <div class=\"colab-df-buttons\">\n",
              "\n",
              "  <div class=\"colab-df-container\">\n",
              "    <button class=\"colab-df-convert\" onclick=\"convertToInteractive('df-9c517614-0303-4b1c-840f-65cc3d93dd83')\"\n",
              "            title=\"Convert this dataframe to an interactive table.\"\n",
              "            style=\"display:none;\">\n",
              "\n",
              "  <svg xmlns=\"http://www.w3.org/2000/svg\" height=\"24px\" viewBox=\"0 -960 960 960\">\n",
              "    <path d=\"M120-120v-720h720v720H120Zm60-500h600v-160H180v160Zm220 220h160v-160H400v160Zm0 220h160v-160H400v160ZM180-400h160v-160H180v160Zm440 0h160v-160H620v160ZM180-180h160v-160H180v160Zm440 0h160v-160H620v160Z\"/>\n",
              "  </svg>\n",
              "    </button>\n",
              "\n",
              "  <style>\n",
              "    .colab-df-container {\n",
              "      display:flex;\n",
              "      gap: 12px;\n",
              "    }\n",
              "\n",
              "    .colab-df-convert {\n",
              "      background-color: #E8F0FE;\n",
              "      border: none;\n",
              "      border-radius: 50%;\n",
              "      cursor: pointer;\n",
              "      display: none;\n",
              "      fill: #1967D2;\n",
              "      height: 32px;\n",
              "      padding: 0 0 0 0;\n",
              "      width: 32px;\n",
              "    }\n",
              "\n",
              "    .colab-df-convert:hover {\n",
              "      background-color: #E2EBFA;\n",
              "      box-shadow: 0px 1px 2px rgba(60, 64, 67, 0.3), 0px 1px 3px 1px rgba(60, 64, 67, 0.15);\n",
              "      fill: #174EA6;\n",
              "    }\n",
              "\n",
              "    .colab-df-buttons div {\n",
              "      margin-bottom: 4px;\n",
              "    }\n",
              "\n",
              "    [theme=dark] .colab-df-convert {\n",
              "      background-color: #3B4455;\n",
              "      fill: #D2E3FC;\n",
              "    }\n",
              "\n",
              "    [theme=dark] .colab-df-convert:hover {\n",
              "      background-color: #434B5C;\n",
              "      box-shadow: 0px 1px 3px 1px rgba(0, 0, 0, 0.15);\n",
              "      filter: drop-shadow(0px 1px 2px rgba(0, 0, 0, 0.3));\n",
              "      fill: #FFFFFF;\n",
              "    }\n",
              "  </style>\n",
              "\n",
              "    <script>\n",
              "      const buttonEl =\n",
              "        document.querySelector('#df-9c517614-0303-4b1c-840f-65cc3d93dd83 button.colab-df-convert');\n",
              "      buttonEl.style.display =\n",
              "        google.colab.kernel.accessAllowed ? 'block' : 'none';\n",
              "\n",
              "      async function convertToInteractive(key) {\n",
              "        const element = document.querySelector('#df-9c517614-0303-4b1c-840f-65cc3d93dd83');\n",
              "        const dataTable =\n",
              "          await google.colab.kernel.invokeFunction('convertToInteractive',\n",
              "                                                    [key], {});\n",
              "        if (!dataTable) return;\n",
              "\n",
              "        const docLinkHtml = 'Like what you see? Visit the ' +\n",
              "          '<a target=\"_blank\" href=https://colab.research.google.com/notebooks/data_table.ipynb>data table notebook</a>'\n",
              "          + ' to learn more about interactive tables.';\n",
              "        element.innerHTML = '';\n",
              "        dataTable['output_type'] = 'display_data';\n",
              "        await google.colab.output.renderOutput(dataTable, element);\n",
              "        const docLink = document.createElement('div');\n",
              "        docLink.innerHTML = docLinkHtml;\n",
              "        element.appendChild(docLink);\n",
              "      }\n",
              "    </script>\n",
              "  </div>\n",
              "\n",
              "\n",
              "    <div id=\"df-d618e4e6-8ca2-4de9-bf02-f840f578dbb7\">\n",
              "      <button class=\"colab-df-quickchart\" onclick=\"quickchart('df-d618e4e6-8ca2-4de9-bf02-f840f578dbb7')\"\n",
              "                title=\"Suggest charts\"\n",
              "                style=\"display:none;\">\n",
              "\n",
              "<svg xmlns=\"http://www.w3.org/2000/svg\" height=\"24px\"viewBox=\"0 0 24 24\"\n",
              "     width=\"24px\">\n",
              "    <g>\n",
              "        <path d=\"M19 3H5c-1.1 0-2 .9-2 2v14c0 1.1.9 2 2 2h14c1.1 0 2-.9 2-2V5c0-1.1-.9-2-2-2zM9 17H7v-7h2v7zm4 0h-2V7h2v10zm4 0h-2v-4h2v4z\"/>\n",
              "    </g>\n",
              "</svg>\n",
              "      </button>\n",
              "\n",
              "<style>\n",
              "  .colab-df-quickchart {\n",
              "      --bg-color: #E8F0FE;\n",
              "      --fill-color: #1967D2;\n",
              "      --hover-bg-color: #E2EBFA;\n",
              "      --hover-fill-color: #174EA6;\n",
              "      --disabled-fill-color: #AAA;\n",
              "      --disabled-bg-color: #DDD;\n",
              "  }\n",
              "\n",
              "  [theme=dark] .colab-df-quickchart {\n",
              "      --bg-color: #3B4455;\n",
              "      --fill-color: #D2E3FC;\n",
              "      --hover-bg-color: #434B5C;\n",
              "      --hover-fill-color: #FFFFFF;\n",
              "      --disabled-bg-color: #3B4455;\n",
              "      --disabled-fill-color: #666;\n",
              "  }\n",
              "\n",
              "  .colab-df-quickchart {\n",
              "    background-color: var(--bg-color);\n",
              "    border: none;\n",
              "    border-radius: 50%;\n",
              "    cursor: pointer;\n",
              "    display: none;\n",
              "    fill: var(--fill-color);\n",
              "    height: 32px;\n",
              "    padding: 0;\n",
              "    width: 32px;\n",
              "  }\n",
              "\n",
              "  .colab-df-quickchart:hover {\n",
              "    background-color: var(--hover-bg-color);\n",
              "    box-shadow: 0 1px 2px rgba(60, 64, 67, 0.3), 0 1px 3px 1px rgba(60, 64, 67, 0.15);\n",
              "    fill: var(--button-hover-fill-color);\n",
              "  }\n",
              "\n",
              "  .colab-df-quickchart-complete:disabled,\n",
              "  .colab-df-quickchart-complete:disabled:hover {\n",
              "    background-color: var(--disabled-bg-color);\n",
              "    fill: var(--disabled-fill-color);\n",
              "    box-shadow: none;\n",
              "  }\n",
              "\n",
              "  .colab-df-spinner {\n",
              "    border: 2px solid var(--fill-color);\n",
              "    border-color: transparent;\n",
              "    border-bottom-color: var(--fill-color);\n",
              "    animation:\n",
              "      spin 1s steps(1) infinite;\n",
              "  }\n",
              "\n",
              "  @keyframes spin {\n",
              "    0% {\n",
              "      border-color: transparent;\n",
              "      border-bottom-color: var(--fill-color);\n",
              "      border-left-color: var(--fill-color);\n",
              "    }\n",
              "    20% {\n",
              "      border-color: transparent;\n",
              "      border-left-color: var(--fill-color);\n",
              "      border-top-color: var(--fill-color);\n",
              "    }\n",
              "    30% {\n",
              "      border-color: transparent;\n",
              "      border-left-color: var(--fill-color);\n",
              "      border-top-color: var(--fill-color);\n",
              "      border-right-color: var(--fill-color);\n",
              "    }\n",
              "    40% {\n",
              "      border-color: transparent;\n",
              "      border-right-color: var(--fill-color);\n",
              "      border-top-color: var(--fill-color);\n",
              "    }\n",
              "    60% {\n",
              "      border-color: transparent;\n",
              "      border-right-color: var(--fill-color);\n",
              "    }\n",
              "    80% {\n",
              "      border-color: transparent;\n",
              "      border-right-color: var(--fill-color);\n",
              "      border-bottom-color: var(--fill-color);\n",
              "    }\n",
              "    90% {\n",
              "      border-color: transparent;\n",
              "      border-bottom-color: var(--fill-color);\n",
              "    }\n",
              "  }\n",
              "</style>\n",
              "\n",
              "      <script>\n",
              "        async function quickchart(key) {\n",
              "          const quickchartButtonEl =\n",
              "            document.querySelector('#' + key + ' button');\n",
              "          quickchartButtonEl.disabled = true;  // To prevent multiple clicks.\n",
              "          quickchartButtonEl.classList.add('colab-df-spinner');\n",
              "          try {\n",
              "            const charts = await google.colab.kernel.invokeFunction(\n",
              "                'suggestCharts', [key], {});\n",
              "          } catch (error) {\n",
              "            console.error('Error during call to suggestCharts:', error);\n",
              "          }\n",
              "          quickchartButtonEl.classList.remove('colab-df-spinner');\n",
              "          quickchartButtonEl.classList.add('colab-df-quickchart-complete');\n",
              "        }\n",
              "        (() => {\n",
              "          let quickchartButtonEl =\n",
              "            document.querySelector('#df-d618e4e6-8ca2-4de9-bf02-f840f578dbb7 button');\n",
              "          quickchartButtonEl.style.display =\n",
              "            google.colab.kernel.accessAllowed ? 'block' : 'none';\n",
              "        })();\n",
              "      </script>\n",
              "    </div>\n",
              "\n",
              "    </div>\n",
              "  </div>\n"
            ],
            "application/vnd.google.colaboratory.intrinsic+json": {
              "type": "dataframe",
              "variable_name": "df",
              "summary": "{\n  \"name\": \"df\",\n  \"rows\": 5377,\n  \"fields\": [\n    {\n      \"column\": \"rank\",\n      \"properties\": {\n        \"dtype\": \"number\",\n        \"std\": 1552,\n        \"min\": 1,\n        \"max\": 5377,\n        \"num_unique_values\": 5377,\n        \"samples\": [\n          2168,\n          4317,\n          411\n        ],\n        \"semantic_type\": \"\",\n        \"description\": \"\"\n      }\n    },\n    {\n      \"column\": \"city\",\n      \"properties\": {\n        \"dtype\": \"string\",\n        \"num_unique_values\": 5377,\n        \"samples\": [\n          \"Blagnac, France\",\n          \"Zarnesti, Romania\",\n          \"Jalgaon, India\"\n        ],\n        \"semantic_type\": \"\",\n        \"description\": \"\"\n      }\n    },\n    {\n      \"column\": \"avg\",\n      \"properties\": {\n        \"dtype\": \"number\",\n        \"std\": 27,\n        \"min\": 1,\n        \"max\": 223,\n        \"num_unique_values\": 154,\n        \"samples\": [\n          163,\n          60,\n          2\n        ],\n        \"semantic_type\": \"\",\n        \"description\": \"\"\n      }\n    },\n    {\n      \"column\": \"jan\",\n      \"properties\": {\n        \"dtype\": \"category\",\n        \"num_unique_values\": 276,\n        \"samples\": [\n          \"182\",\n          \"152\",\n          \"62\"\n        ],\n        \"semantic_type\": \"\",\n        \"description\": \"\"\n      }\n    },\n    {\n      \"column\": \"feb\",\n      \"properties\": {\n        \"dtype\": \"category\",\n        \"num_unique_values\": 229,\n        \"samples\": [\n          \"9\",\n          \"122\",\n          \"305\"\n        ],\n        \"semantic_type\": \"\",\n        \"description\": \"\"\n      }\n    },\n    {\n      \"column\": \"mar\",\n      \"properties\": {\n        \"dtype\": \"category\",\n        \"num_unique_values\": 211,\n        \"samples\": [\n          \"90\",\n          \"39\",\n          \"35\"\n        ],\n        \"semantic_type\": \"\",\n        \"description\": \"\"\n      }\n    },\n    {\n      \"column\": \"apr\",\n      \"properties\": {\n        \"dtype\": \"category\",\n        \"num_unique_values\": 205,\n        \"samples\": [\n          \"158\",\n          \"170\",\n          \"150\"\n        ],\n        \"semantic_type\": \"\",\n        \"description\": \"\"\n      }\n    },\n    {\n      \"column\": \"may\",\n      \"properties\": {\n        \"dtype\": \"category\",\n        \"num_unique_values\": 146,\n        \"samples\": [\n          \"80\",\n          \"45\",\n          \"123\"\n        ],\n        \"semantic_type\": \"\",\n        \"description\": \"\"\n      }\n    },\n    {\n      \"column\": \"jun\",\n      \"properties\": {\n        \"dtype\": \"category\",\n        \"num_unique_values\": 136,\n        \"samples\": [\n          \"47\",\n          \"66\",\n          \"143\"\n        ],\n        \"semantic_type\": \"\",\n        \"description\": \"\"\n      }\n    },\n    {\n      \"column\": \"jul\",\n      \"properties\": {\n        \"dtype\": \"category\",\n        \"num_unique_values\": 132,\n        \"samples\": [\n          \"24\",\n          \"32\",\n          \"38\"\n        ],\n        \"semantic_type\": \"\",\n        \"description\": \"\"\n      }\n    },\n    {\n      \"column\": \"aug\",\n      \"properties\": {\n        \"dtype\": \"category\",\n        \"num_unique_values\": 134,\n        \"samples\": [\n          \"1\",\n          \"30\",\n          \"104\"\n        ],\n        \"semantic_type\": \"\",\n        \"description\": \"\"\n      }\n    },\n    {\n      \"column\": \"sep\",\n      \"properties\": {\n        \"dtype\": \"category\",\n        \"num_unique_values\": 127,\n        \"samples\": [\n          \"58\",\n          \"110\",\n          \"33\"\n        ],\n        \"semantic_type\": \"\",\n        \"description\": \"\"\n      }\n    },\n    {\n      \"column\": \"oct\",\n      \"properties\": {\n        \"dtype\": \"category\",\n        \"num_unique_values\": 167,\n        \"samples\": [\n          \"70\",\n          \"121\",\n          \"88\"\n        ],\n        \"semantic_type\": \"\",\n        \"description\": \"\"\n      }\n    },\n    {\n      \"column\": \"nov\",\n      \"properties\": {\n        \"dtype\": \"category\",\n        \"num_unique_values\": 229,\n        \"samples\": [\n          \"165\",\n          \"151\",\n          \"252\"\n        ],\n        \"semantic_type\": \"\",\n        \"description\": \"\"\n      }\n    },\n    {\n      \"column\": \"dec\",\n      \"properties\": {\n        \"dtype\": \"category\",\n        \"num_unique_values\": 240,\n        \"samples\": [\n          \"240\",\n          \"332\",\n          \"220\"\n        ],\n        \"semantic_type\": \"\",\n        \"description\": \"\"\n      }\n    }\n  ]\n}"
            }
          },
          "metadata": {},
          "execution_count": 4
        }
      ]
    },
    {
      "cell_type": "markdown",
      "source": [
        "2.Tail of the Dataset"
      ],
      "metadata": {
        "id": "BEzOmU8grLbR"
      }
    },
    {
      "cell_type": "code",
      "source": [
        "df.tail()"
      ],
      "metadata": {
        "colab": {
          "base_uri": "https://localhost:8080/",
          "height": 206
        },
        "id": "8qU6HUDqrOyl",
        "outputId": "19ad4734-8f2a-4107-df88-166fc2cd5b87"
      },
      "execution_count": 5,
      "outputs": [
        {
          "output_type": "execute_result",
          "data": {
            "text/plain": [
              "      rank                city  avg jan feb mar apr may jun jul aug sep oct  \\\n",
              "5372  5373   Hyvinkaa, Finland    1   -   -   -   -   -   -   -   -   -   -   \n",
              "5373  5374    Joensuu, Finland    1   4   7   1   4   0   0   0   0   0   -   \n",
              "5374  5375    Mikkeli, Finland    1   -   -   -   -   -   -   -   -   -   -   \n",
              "5375  5376     Tornio, Finland    1   -   -   -   -   -   -   -   -   -   -   \n",
              "5376  5377  Beausoleil, France    1   1   1   1   0   1   1   -   1   1   1   \n",
              "\n",
              "     nov dec  \n",
              "5372   7  10  \n",
              "5373   0   0  \n",
              "5374   6   7  \n",
              "5375   6   6  \n",
              "5376   0   0  "
            ],
            "text/html": [
              "\n",
              "  <div id=\"df-458004ad-beef-4353-a7f1-ce74b6af534f\" class=\"colab-df-container\">\n",
              "    <div>\n",
              "<style scoped>\n",
              "    .dataframe tbody tr th:only-of-type {\n",
              "        vertical-align: middle;\n",
              "    }\n",
              "\n",
              "    .dataframe tbody tr th {\n",
              "        vertical-align: top;\n",
              "    }\n",
              "\n",
              "    .dataframe thead th {\n",
              "        text-align: right;\n",
              "    }\n",
              "</style>\n",
              "<table border=\"1\" class=\"dataframe\">\n",
              "  <thead>\n",
              "    <tr style=\"text-align: right;\">\n",
              "      <th></th>\n",
              "      <th>rank</th>\n",
              "      <th>city</th>\n",
              "      <th>avg</th>\n",
              "      <th>jan</th>\n",
              "      <th>feb</th>\n",
              "      <th>mar</th>\n",
              "      <th>apr</th>\n",
              "      <th>may</th>\n",
              "      <th>jun</th>\n",
              "      <th>jul</th>\n",
              "      <th>aug</th>\n",
              "      <th>sep</th>\n",
              "      <th>oct</th>\n",
              "      <th>nov</th>\n",
              "      <th>dec</th>\n",
              "    </tr>\n",
              "  </thead>\n",
              "  <tbody>\n",
              "    <tr>\n",
              "      <th>5372</th>\n",
              "      <td>5373</td>\n",
              "      <td>Hyvinkaa, Finland</td>\n",
              "      <td>1</td>\n",
              "      <td>-</td>\n",
              "      <td>-</td>\n",
              "      <td>-</td>\n",
              "      <td>-</td>\n",
              "      <td>-</td>\n",
              "      <td>-</td>\n",
              "      <td>-</td>\n",
              "      <td>-</td>\n",
              "      <td>-</td>\n",
              "      <td>-</td>\n",
              "      <td>7</td>\n",
              "      <td>10</td>\n",
              "    </tr>\n",
              "    <tr>\n",
              "      <th>5373</th>\n",
              "      <td>5374</td>\n",
              "      <td>Joensuu, Finland</td>\n",
              "      <td>1</td>\n",
              "      <td>4</td>\n",
              "      <td>7</td>\n",
              "      <td>1</td>\n",
              "      <td>4</td>\n",
              "      <td>0</td>\n",
              "      <td>0</td>\n",
              "      <td>0</td>\n",
              "      <td>0</td>\n",
              "      <td>0</td>\n",
              "      <td>-</td>\n",
              "      <td>0</td>\n",
              "      <td>0</td>\n",
              "    </tr>\n",
              "    <tr>\n",
              "      <th>5374</th>\n",
              "      <td>5375</td>\n",
              "      <td>Mikkeli, Finland</td>\n",
              "      <td>1</td>\n",
              "      <td>-</td>\n",
              "      <td>-</td>\n",
              "      <td>-</td>\n",
              "      <td>-</td>\n",
              "      <td>-</td>\n",
              "      <td>-</td>\n",
              "      <td>-</td>\n",
              "      <td>-</td>\n",
              "      <td>-</td>\n",
              "      <td>-</td>\n",
              "      <td>6</td>\n",
              "      <td>7</td>\n",
              "    </tr>\n",
              "    <tr>\n",
              "      <th>5375</th>\n",
              "      <td>5376</td>\n",
              "      <td>Tornio, Finland</td>\n",
              "      <td>1</td>\n",
              "      <td>-</td>\n",
              "      <td>-</td>\n",
              "      <td>-</td>\n",
              "      <td>-</td>\n",
              "      <td>-</td>\n",
              "      <td>-</td>\n",
              "      <td>-</td>\n",
              "      <td>-</td>\n",
              "      <td>-</td>\n",
              "      <td>-</td>\n",
              "      <td>6</td>\n",
              "      <td>6</td>\n",
              "    </tr>\n",
              "    <tr>\n",
              "      <th>5376</th>\n",
              "      <td>5377</td>\n",
              "      <td>Beausoleil, France</td>\n",
              "      <td>1</td>\n",
              "      <td>1</td>\n",
              "      <td>1</td>\n",
              "      <td>1</td>\n",
              "      <td>0</td>\n",
              "      <td>1</td>\n",
              "      <td>1</td>\n",
              "      <td>-</td>\n",
              "      <td>1</td>\n",
              "      <td>1</td>\n",
              "      <td>1</td>\n",
              "      <td>0</td>\n",
              "      <td>0</td>\n",
              "    </tr>\n",
              "  </tbody>\n",
              "</table>\n",
              "</div>\n",
              "    <div class=\"colab-df-buttons\">\n",
              "\n",
              "  <div class=\"colab-df-container\">\n",
              "    <button class=\"colab-df-convert\" onclick=\"convertToInteractive('df-458004ad-beef-4353-a7f1-ce74b6af534f')\"\n",
              "            title=\"Convert this dataframe to an interactive table.\"\n",
              "            style=\"display:none;\">\n",
              "\n",
              "  <svg xmlns=\"http://www.w3.org/2000/svg\" height=\"24px\" viewBox=\"0 -960 960 960\">\n",
              "    <path d=\"M120-120v-720h720v720H120Zm60-500h600v-160H180v160Zm220 220h160v-160H400v160Zm0 220h160v-160H400v160ZM180-400h160v-160H180v160Zm440 0h160v-160H620v160ZM180-180h160v-160H180v160Zm440 0h160v-160H620v160Z\"/>\n",
              "  </svg>\n",
              "    </button>\n",
              "\n",
              "  <style>\n",
              "    .colab-df-container {\n",
              "      display:flex;\n",
              "      gap: 12px;\n",
              "    }\n",
              "\n",
              "    .colab-df-convert {\n",
              "      background-color: #E8F0FE;\n",
              "      border: none;\n",
              "      border-radius: 50%;\n",
              "      cursor: pointer;\n",
              "      display: none;\n",
              "      fill: #1967D2;\n",
              "      height: 32px;\n",
              "      padding: 0 0 0 0;\n",
              "      width: 32px;\n",
              "    }\n",
              "\n",
              "    .colab-df-convert:hover {\n",
              "      background-color: #E2EBFA;\n",
              "      box-shadow: 0px 1px 2px rgba(60, 64, 67, 0.3), 0px 1px 3px 1px rgba(60, 64, 67, 0.15);\n",
              "      fill: #174EA6;\n",
              "    }\n",
              "\n",
              "    .colab-df-buttons div {\n",
              "      margin-bottom: 4px;\n",
              "    }\n",
              "\n",
              "    [theme=dark] .colab-df-convert {\n",
              "      background-color: #3B4455;\n",
              "      fill: #D2E3FC;\n",
              "    }\n",
              "\n",
              "    [theme=dark] .colab-df-convert:hover {\n",
              "      background-color: #434B5C;\n",
              "      box-shadow: 0px 1px 3px 1px rgba(0, 0, 0, 0.15);\n",
              "      filter: drop-shadow(0px 1px 2px rgba(0, 0, 0, 0.3));\n",
              "      fill: #FFFFFF;\n",
              "    }\n",
              "  </style>\n",
              "\n",
              "    <script>\n",
              "      const buttonEl =\n",
              "        document.querySelector('#df-458004ad-beef-4353-a7f1-ce74b6af534f button.colab-df-convert');\n",
              "      buttonEl.style.display =\n",
              "        google.colab.kernel.accessAllowed ? 'block' : 'none';\n",
              "\n",
              "      async function convertToInteractive(key) {\n",
              "        const element = document.querySelector('#df-458004ad-beef-4353-a7f1-ce74b6af534f');\n",
              "        const dataTable =\n",
              "          await google.colab.kernel.invokeFunction('convertToInteractive',\n",
              "                                                    [key], {});\n",
              "        if (!dataTable) return;\n",
              "\n",
              "        const docLinkHtml = 'Like what you see? Visit the ' +\n",
              "          '<a target=\"_blank\" href=https://colab.research.google.com/notebooks/data_table.ipynb>data table notebook</a>'\n",
              "          + ' to learn more about interactive tables.';\n",
              "        element.innerHTML = '';\n",
              "        dataTable['output_type'] = 'display_data';\n",
              "        await google.colab.output.renderOutput(dataTable, element);\n",
              "        const docLink = document.createElement('div');\n",
              "        docLink.innerHTML = docLinkHtml;\n",
              "        element.appendChild(docLink);\n",
              "      }\n",
              "    </script>\n",
              "  </div>\n",
              "\n",
              "\n",
              "    <div id=\"df-d091b393-1dd1-4fd1-9bef-f6d970d012f8\">\n",
              "      <button class=\"colab-df-quickchart\" onclick=\"quickchart('df-d091b393-1dd1-4fd1-9bef-f6d970d012f8')\"\n",
              "                title=\"Suggest charts\"\n",
              "                style=\"display:none;\">\n",
              "\n",
              "<svg xmlns=\"http://www.w3.org/2000/svg\" height=\"24px\"viewBox=\"0 0 24 24\"\n",
              "     width=\"24px\">\n",
              "    <g>\n",
              "        <path d=\"M19 3H5c-1.1 0-2 .9-2 2v14c0 1.1.9 2 2 2h14c1.1 0 2-.9 2-2V5c0-1.1-.9-2-2-2zM9 17H7v-7h2v7zm4 0h-2V7h2v10zm4 0h-2v-4h2v4z\"/>\n",
              "    </g>\n",
              "</svg>\n",
              "      </button>\n",
              "\n",
              "<style>\n",
              "  .colab-df-quickchart {\n",
              "      --bg-color: #E8F0FE;\n",
              "      --fill-color: #1967D2;\n",
              "      --hover-bg-color: #E2EBFA;\n",
              "      --hover-fill-color: #174EA6;\n",
              "      --disabled-fill-color: #AAA;\n",
              "      --disabled-bg-color: #DDD;\n",
              "  }\n",
              "\n",
              "  [theme=dark] .colab-df-quickchart {\n",
              "      --bg-color: #3B4455;\n",
              "      --fill-color: #D2E3FC;\n",
              "      --hover-bg-color: #434B5C;\n",
              "      --hover-fill-color: #FFFFFF;\n",
              "      --disabled-bg-color: #3B4455;\n",
              "      --disabled-fill-color: #666;\n",
              "  }\n",
              "\n",
              "  .colab-df-quickchart {\n",
              "    background-color: var(--bg-color);\n",
              "    border: none;\n",
              "    border-radius: 50%;\n",
              "    cursor: pointer;\n",
              "    display: none;\n",
              "    fill: var(--fill-color);\n",
              "    height: 32px;\n",
              "    padding: 0;\n",
              "    width: 32px;\n",
              "  }\n",
              "\n",
              "  .colab-df-quickchart:hover {\n",
              "    background-color: var(--hover-bg-color);\n",
              "    box-shadow: 0 1px 2px rgba(60, 64, 67, 0.3), 0 1px 3px 1px rgba(60, 64, 67, 0.15);\n",
              "    fill: var(--button-hover-fill-color);\n",
              "  }\n",
              "\n",
              "  .colab-df-quickchart-complete:disabled,\n",
              "  .colab-df-quickchart-complete:disabled:hover {\n",
              "    background-color: var(--disabled-bg-color);\n",
              "    fill: var(--disabled-fill-color);\n",
              "    box-shadow: none;\n",
              "  }\n",
              "\n",
              "  .colab-df-spinner {\n",
              "    border: 2px solid var(--fill-color);\n",
              "    border-color: transparent;\n",
              "    border-bottom-color: var(--fill-color);\n",
              "    animation:\n",
              "      spin 1s steps(1) infinite;\n",
              "  }\n",
              "\n",
              "  @keyframes spin {\n",
              "    0% {\n",
              "      border-color: transparent;\n",
              "      border-bottom-color: var(--fill-color);\n",
              "      border-left-color: var(--fill-color);\n",
              "    }\n",
              "    20% {\n",
              "      border-color: transparent;\n",
              "      border-left-color: var(--fill-color);\n",
              "      border-top-color: var(--fill-color);\n",
              "    }\n",
              "    30% {\n",
              "      border-color: transparent;\n",
              "      border-left-color: var(--fill-color);\n",
              "      border-top-color: var(--fill-color);\n",
              "      border-right-color: var(--fill-color);\n",
              "    }\n",
              "    40% {\n",
              "      border-color: transparent;\n",
              "      border-right-color: var(--fill-color);\n",
              "      border-top-color: var(--fill-color);\n",
              "    }\n",
              "    60% {\n",
              "      border-color: transparent;\n",
              "      border-right-color: var(--fill-color);\n",
              "    }\n",
              "    80% {\n",
              "      border-color: transparent;\n",
              "      border-right-color: var(--fill-color);\n",
              "      border-bottom-color: var(--fill-color);\n",
              "    }\n",
              "    90% {\n",
              "      border-color: transparent;\n",
              "      border-bottom-color: var(--fill-color);\n",
              "    }\n",
              "  }\n",
              "</style>\n",
              "\n",
              "      <script>\n",
              "        async function quickchart(key) {\n",
              "          const quickchartButtonEl =\n",
              "            document.querySelector('#' + key + ' button');\n",
              "          quickchartButtonEl.disabled = true;  // To prevent multiple clicks.\n",
              "          quickchartButtonEl.classList.add('colab-df-spinner');\n",
              "          try {\n",
              "            const charts = await google.colab.kernel.invokeFunction(\n",
              "                'suggestCharts', [key], {});\n",
              "          } catch (error) {\n",
              "            console.error('Error during call to suggestCharts:', error);\n",
              "          }\n",
              "          quickchartButtonEl.classList.remove('colab-df-spinner');\n",
              "          quickchartButtonEl.classList.add('colab-df-quickchart-complete');\n",
              "        }\n",
              "        (() => {\n",
              "          let quickchartButtonEl =\n",
              "            document.querySelector('#df-d091b393-1dd1-4fd1-9bef-f6d970d012f8 button');\n",
              "          quickchartButtonEl.style.display =\n",
              "            google.colab.kernel.accessAllowed ? 'block' : 'none';\n",
              "        })();\n",
              "      </script>\n",
              "    </div>\n",
              "\n",
              "    </div>\n",
              "  </div>\n"
            ],
            "application/vnd.google.colaboratory.intrinsic+json": {
              "type": "dataframe",
              "summary": "{\n  \"name\": \"df\",\n  \"rows\": 5,\n  \"fields\": [\n    {\n      \"column\": \"rank\",\n      \"properties\": {\n        \"dtype\": \"number\",\n        \"std\": 1,\n        \"min\": 5373,\n        \"max\": 5377,\n        \"num_unique_values\": 5,\n        \"samples\": [\n          5374,\n          5377,\n          5375\n        ],\n        \"semantic_type\": \"\",\n        \"description\": \"\"\n      }\n    },\n    {\n      \"column\": \"city\",\n      \"properties\": {\n        \"dtype\": \"string\",\n        \"num_unique_values\": 5,\n        \"samples\": [\n          \"Joensuu, Finland\",\n          \"Beausoleil, France\",\n          \"Mikkeli, Finland\"\n        ],\n        \"semantic_type\": \"\",\n        \"description\": \"\"\n      }\n    },\n    {\n      \"column\": \"avg\",\n      \"properties\": {\n        \"dtype\": \"number\",\n        \"std\": 0,\n        \"min\": 1,\n        \"max\": 1,\n        \"num_unique_values\": 1,\n        \"samples\": [\n          1\n        ],\n        \"semantic_type\": \"\",\n        \"description\": \"\"\n      }\n    },\n    {\n      \"column\": \"jan\",\n      \"properties\": {\n        \"dtype\": \"string\",\n        \"num_unique_values\": 3,\n        \"samples\": [\n          \"-\"\n        ],\n        \"semantic_type\": \"\",\n        \"description\": \"\"\n      }\n    },\n    {\n      \"column\": \"feb\",\n      \"properties\": {\n        \"dtype\": \"string\",\n        \"num_unique_values\": 3,\n        \"samples\": [\n          \"-\"\n        ],\n        \"semantic_type\": \"\",\n        \"description\": \"\"\n      }\n    },\n    {\n      \"column\": \"mar\",\n      \"properties\": {\n        \"dtype\": \"category\",\n        \"num_unique_values\": 2,\n        \"samples\": [\n          \"1\"\n        ],\n        \"semantic_type\": \"\",\n        \"description\": \"\"\n      }\n    },\n    {\n      \"column\": \"apr\",\n      \"properties\": {\n        \"dtype\": \"string\",\n        \"num_unique_values\": 3,\n        \"samples\": [\n          \"-\"\n        ],\n        \"semantic_type\": \"\",\n        \"description\": \"\"\n      }\n    },\n    {\n      \"column\": \"may\",\n      \"properties\": {\n        \"dtype\": \"string\",\n        \"num_unique_values\": 3,\n        \"samples\": [\n          \"-\"\n        ],\n        \"semantic_type\": \"\",\n        \"description\": \"\"\n      }\n    },\n    {\n      \"column\": \"jun\",\n      \"properties\": {\n        \"dtype\": \"string\",\n        \"num_unique_values\": 3,\n        \"samples\": [\n          \"-\"\n        ],\n        \"semantic_type\": \"\",\n        \"description\": \"\"\n      }\n    },\n    {\n      \"column\": \"jul\",\n      \"properties\": {\n        \"dtype\": \"category\",\n        \"num_unique_values\": 2,\n        \"samples\": [\n          \"0\"\n        ],\n        \"semantic_type\": \"\",\n        \"description\": \"\"\n      }\n    },\n    {\n      \"column\": \"aug\",\n      \"properties\": {\n        \"dtype\": \"string\",\n        \"num_unique_values\": 3,\n        \"samples\": [\n          \"-\"\n        ],\n        \"semantic_type\": \"\",\n        \"description\": \"\"\n      }\n    },\n    {\n      \"column\": \"sep\",\n      \"properties\": {\n        \"dtype\": \"string\",\n        \"num_unique_values\": 3,\n        \"samples\": [\n          \"-\"\n        ],\n        \"semantic_type\": \"\",\n        \"description\": \"\"\n      }\n    },\n    {\n      \"column\": \"oct\",\n      \"properties\": {\n        \"dtype\": \"category\",\n        \"num_unique_values\": 2,\n        \"samples\": [\n          \"1\"\n        ],\n        \"semantic_type\": \"\",\n        \"description\": \"\"\n      }\n    },\n    {\n      \"column\": \"nov\",\n      \"properties\": {\n        \"dtype\": \"string\",\n        \"num_unique_values\": 3,\n        \"samples\": [\n          \"7\"\n        ],\n        \"semantic_type\": \"\",\n        \"description\": \"\"\n      }\n    },\n    {\n      \"column\": \"dec\",\n      \"properties\": {\n        \"dtype\": \"string\",\n        \"num_unique_values\": 4,\n        \"samples\": [\n          \"0\"\n        ],\n        \"semantic_type\": \"\",\n        \"description\": \"\"\n      }\n    }\n  ]\n}"
            }
          },
          "metadata": {},
          "execution_count": 5
        }
      ]
    },
    {
      "cell_type": "markdown",
      "source": [
        "3.Shape of the Dataset"
      ],
      "metadata": {
        "id": "xvTdK8hCsRIO"
      }
    },
    {
      "cell_type": "code",
      "source": [
        "df.shape"
      ],
      "metadata": {
        "colab": {
          "base_uri": "https://localhost:8080/"
        },
        "id": "pU63SiDnrQdb",
        "outputId": "3e8c0eb7-89e8-4fb2-b90d-29596d1cb07d"
      },
      "execution_count": null,
      "outputs": [
        {
          "output_type": "execute_result",
          "data": {
            "text/plain": [
              "(5377, 15)"
            ]
          },
          "metadata": {},
          "execution_count": 5
        }
      ]
    },
    {
      "cell_type": "markdown",
      "source": [
        "4.Numerical columns"
      ],
      "metadata": {
        "id": "mNMjb7XBwPgg"
      }
    },
    {
      "cell_type": "code",
      "source": [
        "print(\"\\nNumerical Columns:\")\n",
        "df.describe()"
      ],
      "metadata": {
        "colab": {
          "base_uri": "https://localhost:8080/",
          "height": 336
        },
        "id": "tabxVzYvuZy9",
        "outputId": "381a933e-c10a-41da-d0ce-e6c0e9a78bc7"
      },
      "execution_count": 7,
      "outputs": [
        {
          "output_type": "stream",
          "name": "stdout",
          "text": [
            "\n",
            "Numerical Columns:\n"
          ]
        },
        {
          "output_type": "execute_result",
          "data": {
            "text/plain": [
              "             rank          avg\n",
              "count  5377.00000  5377.000000\n",
              "mean   2689.00000    32.171657\n",
              "std    1552.35053    27.075191\n",
              "min       1.00000     1.000000\n",
              "25%    1345.00000    16.000000\n",
              "50%    2689.00000    26.000000\n",
              "75%    4033.00000    37.000000\n",
              "max    5377.00000   223.000000"
            ],
            "text/html": [
              "\n",
              "  <div id=\"df-ddd41e76-49f7-40a7-a629-48cb070a0f65\" class=\"colab-df-container\">\n",
              "    <div>\n",
              "<style scoped>\n",
              "    .dataframe tbody tr th:only-of-type {\n",
              "        vertical-align: middle;\n",
              "    }\n",
              "\n",
              "    .dataframe tbody tr th {\n",
              "        vertical-align: top;\n",
              "    }\n",
              "\n",
              "    .dataframe thead th {\n",
              "        text-align: right;\n",
              "    }\n",
              "</style>\n",
              "<table border=\"1\" class=\"dataframe\">\n",
              "  <thead>\n",
              "    <tr style=\"text-align: right;\">\n",
              "      <th></th>\n",
              "      <th>rank</th>\n",
              "      <th>avg</th>\n",
              "    </tr>\n",
              "  </thead>\n",
              "  <tbody>\n",
              "    <tr>\n",
              "      <th>count</th>\n",
              "      <td>5377.00000</td>\n",
              "      <td>5377.000000</td>\n",
              "    </tr>\n",
              "    <tr>\n",
              "      <th>mean</th>\n",
              "      <td>2689.00000</td>\n",
              "      <td>32.171657</td>\n",
              "    </tr>\n",
              "    <tr>\n",
              "      <th>std</th>\n",
              "      <td>1552.35053</td>\n",
              "      <td>27.075191</td>\n",
              "    </tr>\n",
              "    <tr>\n",
              "      <th>min</th>\n",
              "      <td>1.00000</td>\n",
              "      <td>1.000000</td>\n",
              "    </tr>\n",
              "    <tr>\n",
              "      <th>25%</th>\n",
              "      <td>1345.00000</td>\n",
              "      <td>16.000000</td>\n",
              "    </tr>\n",
              "    <tr>\n",
              "      <th>50%</th>\n",
              "      <td>2689.00000</td>\n",
              "      <td>26.000000</td>\n",
              "    </tr>\n",
              "    <tr>\n",
              "      <th>75%</th>\n",
              "      <td>4033.00000</td>\n",
              "      <td>37.000000</td>\n",
              "    </tr>\n",
              "    <tr>\n",
              "      <th>max</th>\n",
              "      <td>5377.00000</td>\n",
              "      <td>223.000000</td>\n",
              "    </tr>\n",
              "  </tbody>\n",
              "</table>\n",
              "</div>\n",
              "    <div class=\"colab-df-buttons\">\n",
              "\n",
              "  <div class=\"colab-df-container\">\n",
              "    <button class=\"colab-df-convert\" onclick=\"convertToInteractive('df-ddd41e76-49f7-40a7-a629-48cb070a0f65')\"\n",
              "            title=\"Convert this dataframe to an interactive table.\"\n",
              "            style=\"display:none;\">\n",
              "\n",
              "  <svg xmlns=\"http://www.w3.org/2000/svg\" height=\"24px\" viewBox=\"0 -960 960 960\">\n",
              "    <path d=\"M120-120v-720h720v720H120Zm60-500h600v-160H180v160Zm220 220h160v-160H400v160Zm0 220h160v-160H400v160ZM180-400h160v-160H180v160Zm440 0h160v-160H620v160ZM180-180h160v-160H180v160Zm440 0h160v-160H620v160Z\"/>\n",
              "  </svg>\n",
              "    </button>\n",
              "\n",
              "  <style>\n",
              "    .colab-df-container {\n",
              "      display:flex;\n",
              "      gap: 12px;\n",
              "    }\n",
              "\n",
              "    .colab-df-convert {\n",
              "      background-color: #E8F0FE;\n",
              "      border: none;\n",
              "      border-radius: 50%;\n",
              "      cursor: pointer;\n",
              "      display: none;\n",
              "      fill: #1967D2;\n",
              "      height: 32px;\n",
              "      padding: 0 0 0 0;\n",
              "      width: 32px;\n",
              "    }\n",
              "\n",
              "    .colab-df-convert:hover {\n",
              "      background-color: #E2EBFA;\n",
              "      box-shadow: 0px 1px 2px rgba(60, 64, 67, 0.3), 0px 1px 3px 1px rgba(60, 64, 67, 0.15);\n",
              "      fill: #174EA6;\n",
              "    }\n",
              "\n",
              "    .colab-df-buttons div {\n",
              "      margin-bottom: 4px;\n",
              "    }\n",
              "\n",
              "    [theme=dark] .colab-df-convert {\n",
              "      background-color: #3B4455;\n",
              "      fill: #D2E3FC;\n",
              "    }\n",
              "\n",
              "    [theme=dark] .colab-df-convert:hover {\n",
              "      background-color: #434B5C;\n",
              "      box-shadow: 0px 1px 3px 1px rgba(0, 0, 0, 0.15);\n",
              "      filter: drop-shadow(0px 1px 2px rgba(0, 0, 0, 0.3));\n",
              "      fill: #FFFFFF;\n",
              "    }\n",
              "  </style>\n",
              "\n",
              "    <script>\n",
              "      const buttonEl =\n",
              "        document.querySelector('#df-ddd41e76-49f7-40a7-a629-48cb070a0f65 button.colab-df-convert');\n",
              "      buttonEl.style.display =\n",
              "        google.colab.kernel.accessAllowed ? 'block' : 'none';\n",
              "\n",
              "      async function convertToInteractive(key) {\n",
              "        const element = document.querySelector('#df-ddd41e76-49f7-40a7-a629-48cb070a0f65');\n",
              "        const dataTable =\n",
              "          await google.colab.kernel.invokeFunction('convertToInteractive',\n",
              "                                                    [key], {});\n",
              "        if (!dataTable) return;\n",
              "\n",
              "        const docLinkHtml = 'Like what you see? Visit the ' +\n",
              "          '<a target=\"_blank\" href=https://colab.research.google.com/notebooks/data_table.ipynb>data table notebook</a>'\n",
              "          + ' to learn more about interactive tables.';\n",
              "        element.innerHTML = '';\n",
              "        dataTable['output_type'] = 'display_data';\n",
              "        await google.colab.output.renderOutput(dataTable, element);\n",
              "        const docLink = document.createElement('div');\n",
              "        docLink.innerHTML = docLinkHtml;\n",
              "        element.appendChild(docLink);\n",
              "      }\n",
              "    </script>\n",
              "  </div>\n",
              "\n",
              "\n",
              "    <div id=\"df-54c7f707-02d7-4485-aaa1-677c1d12c3aa\">\n",
              "      <button class=\"colab-df-quickchart\" onclick=\"quickchart('df-54c7f707-02d7-4485-aaa1-677c1d12c3aa')\"\n",
              "                title=\"Suggest charts\"\n",
              "                style=\"display:none;\">\n",
              "\n",
              "<svg xmlns=\"http://www.w3.org/2000/svg\" height=\"24px\"viewBox=\"0 0 24 24\"\n",
              "     width=\"24px\">\n",
              "    <g>\n",
              "        <path d=\"M19 3H5c-1.1 0-2 .9-2 2v14c0 1.1.9 2 2 2h14c1.1 0 2-.9 2-2V5c0-1.1-.9-2-2-2zM9 17H7v-7h2v7zm4 0h-2V7h2v10zm4 0h-2v-4h2v4z\"/>\n",
              "    </g>\n",
              "</svg>\n",
              "      </button>\n",
              "\n",
              "<style>\n",
              "  .colab-df-quickchart {\n",
              "      --bg-color: #E8F0FE;\n",
              "      --fill-color: #1967D2;\n",
              "      --hover-bg-color: #E2EBFA;\n",
              "      --hover-fill-color: #174EA6;\n",
              "      --disabled-fill-color: #AAA;\n",
              "      --disabled-bg-color: #DDD;\n",
              "  }\n",
              "\n",
              "  [theme=dark] .colab-df-quickchart {\n",
              "      --bg-color: #3B4455;\n",
              "      --fill-color: #D2E3FC;\n",
              "      --hover-bg-color: #434B5C;\n",
              "      --hover-fill-color: #FFFFFF;\n",
              "      --disabled-bg-color: #3B4455;\n",
              "      --disabled-fill-color: #666;\n",
              "  }\n",
              "\n",
              "  .colab-df-quickchart {\n",
              "    background-color: var(--bg-color);\n",
              "    border: none;\n",
              "    border-radius: 50%;\n",
              "    cursor: pointer;\n",
              "    display: none;\n",
              "    fill: var(--fill-color);\n",
              "    height: 32px;\n",
              "    padding: 0;\n",
              "    width: 32px;\n",
              "  }\n",
              "\n",
              "  .colab-df-quickchart:hover {\n",
              "    background-color: var(--hover-bg-color);\n",
              "    box-shadow: 0 1px 2px rgba(60, 64, 67, 0.3), 0 1px 3px 1px rgba(60, 64, 67, 0.15);\n",
              "    fill: var(--button-hover-fill-color);\n",
              "  }\n",
              "\n",
              "  .colab-df-quickchart-complete:disabled,\n",
              "  .colab-df-quickchart-complete:disabled:hover {\n",
              "    background-color: var(--disabled-bg-color);\n",
              "    fill: var(--disabled-fill-color);\n",
              "    box-shadow: none;\n",
              "  }\n",
              "\n",
              "  .colab-df-spinner {\n",
              "    border: 2px solid var(--fill-color);\n",
              "    border-color: transparent;\n",
              "    border-bottom-color: var(--fill-color);\n",
              "    animation:\n",
              "      spin 1s steps(1) infinite;\n",
              "  }\n",
              "\n",
              "  @keyframes spin {\n",
              "    0% {\n",
              "      border-color: transparent;\n",
              "      border-bottom-color: var(--fill-color);\n",
              "      border-left-color: var(--fill-color);\n",
              "    }\n",
              "    20% {\n",
              "      border-color: transparent;\n",
              "      border-left-color: var(--fill-color);\n",
              "      border-top-color: var(--fill-color);\n",
              "    }\n",
              "    30% {\n",
              "      border-color: transparent;\n",
              "      border-left-color: var(--fill-color);\n",
              "      border-top-color: var(--fill-color);\n",
              "      border-right-color: var(--fill-color);\n",
              "    }\n",
              "    40% {\n",
              "      border-color: transparent;\n",
              "      border-right-color: var(--fill-color);\n",
              "      border-top-color: var(--fill-color);\n",
              "    }\n",
              "    60% {\n",
              "      border-color: transparent;\n",
              "      border-right-color: var(--fill-color);\n",
              "    }\n",
              "    80% {\n",
              "      border-color: transparent;\n",
              "      border-right-color: var(--fill-color);\n",
              "      border-bottom-color: var(--fill-color);\n",
              "    }\n",
              "    90% {\n",
              "      border-color: transparent;\n",
              "      border-bottom-color: var(--fill-color);\n",
              "    }\n",
              "  }\n",
              "</style>\n",
              "\n",
              "      <script>\n",
              "        async function quickchart(key) {\n",
              "          const quickchartButtonEl =\n",
              "            document.querySelector('#' + key + ' button');\n",
              "          quickchartButtonEl.disabled = true;  // To prevent multiple clicks.\n",
              "          quickchartButtonEl.classList.add('colab-df-spinner');\n",
              "          try {\n",
              "            const charts = await google.colab.kernel.invokeFunction(\n",
              "                'suggestCharts', [key], {});\n",
              "          } catch (error) {\n",
              "            console.error('Error during call to suggestCharts:', error);\n",
              "          }\n",
              "          quickchartButtonEl.classList.remove('colab-df-spinner');\n",
              "          quickchartButtonEl.classList.add('colab-df-quickchart-complete');\n",
              "        }\n",
              "        (() => {\n",
              "          let quickchartButtonEl =\n",
              "            document.querySelector('#df-54c7f707-02d7-4485-aaa1-677c1d12c3aa button');\n",
              "          quickchartButtonEl.style.display =\n",
              "            google.colab.kernel.accessAllowed ? 'block' : 'none';\n",
              "        })();\n",
              "      </script>\n",
              "    </div>\n",
              "\n",
              "    </div>\n",
              "  </div>\n"
            ],
            "application/vnd.google.colaboratory.intrinsic+json": {
              "type": "dataframe",
              "summary": "{\n  \"name\": \"df\",\n  \"rows\": 8,\n  \"fields\": [\n    {\n      \"column\": \"rank\",\n      \"properties\": {\n        \"dtype\": \"number\",\n        \"std\": 1937.5920240052099,\n        \"min\": 1.0,\n        \"max\": 5377.0,\n        \"num_unique_values\": 6,\n        \"samples\": [\n          5377.0,\n          2689.0,\n          4033.0\n        ],\n        \"semantic_type\": \"\",\n        \"description\": \"\"\n      }\n    },\n    {\n      \"column\": \"avg\",\n      \"properties\": {\n        \"dtype\": \"number\",\n        \"std\": 1884.0897303474658,\n        \"min\": 1.0,\n        \"max\": 5377.0,\n        \"num_unique_values\": 8,\n        \"samples\": [\n          32.17165705783894,\n          26.0,\n          5377.0\n        ],\n        \"semantic_type\": \"\",\n        \"description\": \"\"\n      }\n    }\n  ]\n}"
            }
          },
          "metadata": {},
          "execution_count": 7
        }
      ]
    },
    {
      "cell_type": "markdown",
      "source": [
        "5.Categorical Columns"
      ],
      "metadata": {
        "id": "YxNnKySQ3NI6"
      }
    },
    {
      "cell_type": "code",
      "source": [
        "print(\"\\nValue counts for categorical columns:\")\n",
        "for col in df.select_dtypes(include='object').columns:\n",
        "    print(f\"\\n{col}:\\n\", df[col].value_counts())"
      ],
      "metadata": {
        "colab": {
          "base_uri": "https://localhost:8080/"
        },
        "id": "YaGL16sm3Shd",
        "outputId": "622ccae7-d7b3-4a73-b80b-a7f24e7dfd03"
      },
      "execution_count": 6,
      "outputs": [
        {
          "output_type": "stream",
          "name": "stdout",
          "text": [
            "\n",
            "Value counts for categorical columns:\n",
            "\n",
            "city:\n",
            " city\n",
            "Beausoleil, France      1\n",
            "Bonnyville, Canada      1\n",
            "Tutong, Brunei          1\n",
            "Kuala Belait, Brunei    1\n",
            "Bangar, Brunei          1\n",
            "                       ..\n",
            "Kashgar, China          1\n",
            "Noida, India            1\n",
            "New Delhi, India        1\n",
            "Saharsa, India          1\n",
            "Patna, India            1\n",
            "Name: count, Length: 5377, dtype: int64\n",
            "\n",
            "jan:\n",
            " jan\n",
            "-      542\n",
            "21     201\n",
            "22     199\n",
            "20     182\n",
            "19     170\n",
            "      ... \n",
            "367      1\n",
            "256      1\n",
            "291      1\n",
            "354      1\n",
            "413      1\n",
            "Name: count, Length: 276, dtype: int64\n",
            "\n",
            "feb:\n",
            " feb\n",
            "-      544\n",
            "26     185\n",
            "23     180\n",
            "24     178\n",
            "25     170\n",
            "      ... \n",
            "198      1\n",
            "205      1\n",
            "220      1\n",
            "187      1\n",
            "207      1\n",
            "Name: count, Length: 229, dtype: int64\n",
            "\n",
            "mar:\n",
            " mar\n",
            "-      502\n",
            "27     185\n",
            "30     179\n",
            "31     178\n",
            "28     176\n",
            "      ... \n",
            "216      1\n",
            "244      1\n",
            "183      1\n",
            "176      1\n",
            "173      1\n",
            "Name: count, Length: 211, dtype: int64\n",
            "\n",
            "apr:\n",
            " apr\n",
            "-      537\n",
            "28     159\n",
            "29     157\n",
            "27     142\n",
            "36     142\n",
            "      ... \n",
            "213      1\n",
            "191      1\n",
            "251      1\n",
            "205      1\n",
            "333      1\n",
            "Name: count, Length: 205, dtype: int64\n",
            "\n",
            "may:\n",
            " may\n",
            "-      552\n",
            "33     212\n",
            "30     179\n",
            "32     177\n",
            "31     172\n",
            "      ... \n",
            "139      1\n",
            "194      1\n",
            "114      1\n",
            "174      1\n",
            "207      1\n",
            "Name: count, Length: 146, dtype: int64\n",
            "\n",
            "jun:\n",
            " jun\n",
            "-      593\n",
            "31     182\n",
            "32     169\n",
            "34     164\n",
            "33     163\n",
            "      ... \n",
            "89       1\n",
            "111      1\n",
            "106      1\n",
            "156      1\n",
            "195      1\n",
            "Name: count, Length: 136, dtype: int64\n",
            "\n",
            "jul:\n",
            " jul\n",
            "-      623\n",
            "25     191\n",
            "26     188\n",
            "24     187\n",
            "28     186\n",
            "      ... \n",
            "148      1\n",
            "111      1\n",
            "108      1\n",
            "80       1\n",
            "150      1\n",
            "Name: count, Length: 132, dtype: int64\n",
            "\n",
            "aug:\n",
            " aug\n",
            "-      638\n",
            "20     191\n",
            "25     176\n",
            "22     170\n",
            "21     167\n",
            "      ... \n",
            "106      1\n",
            "104      1\n",
            "122      1\n",
            "245      1\n",
            "99       1\n",
            "Name: count, Length: 134, dtype: int64\n",
            "\n",
            "sep:\n",
            " sep\n",
            "-      740\n",
            "24     214\n",
            "23     206\n",
            "25     205\n",
            "22     192\n",
            "      ... \n",
            "110      1\n",
            "463      1\n",
            "140      1\n",
            "122      1\n",
            "155      1\n",
            "Name: count, Length: 127, dtype: int64\n",
            "\n",
            "oct:\n",
            " oct\n",
            "-      678\n",
            "19     178\n",
            "24     173\n",
            "20     169\n",
            "18     168\n",
            "      ... \n",
            "144      1\n",
            "141      1\n",
            "106      1\n",
            "161      1\n",
            "196      1\n",
            "Name: count, Length: 167, dtype: int64\n",
            "\n",
            "nov:\n",
            " nov\n",
            "21     198\n",
            "18     186\n",
            "22     178\n",
            "23     177\n",
            "25     171\n",
            "      ... \n",
            "192      1\n",
            "165      1\n",
            "148      1\n",
            "153      1\n",
            "152      1\n",
            "Name: count, Length: 229, dtype: int64\n",
            "\n",
            "dec:\n",
            " dec\n",
            "22     196\n",
            "19     194\n",
            "18     190\n",
            "23     187\n",
            "20     180\n",
            "      ... \n",
            "278      1\n",
            "161      1\n",
            "194      1\n",
            "237      1\n",
            "174      1\n",
            "Name: count, Length: 240, dtype: int64\n"
          ]
        }
      ]
    },
    {
      "cell_type": "markdown",
      "source": [
        "6.Columns Names"
      ],
      "metadata": {
        "id": "M0eBiSjY1O5V"
      }
    },
    {
      "cell_type": "code",
      "source": [
        "df.info()"
      ],
      "metadata": {
        "colab": {
          "base_uri": "https://localhost:8080/"
        },
        "id": "_RucuFRu1a9x",
        "outputId": "f6746f20-71d3-4d97-922c-396c5bdc61fb"
      },
      "execution_count": null,
      "outputs": [
        {
          "output_type": "stream",
          "name": "stdout",
          "text": [
            "<class 'pandas.core.frame.DataFrame'>\n",
            "RangeIndex: 5377 entries, 0 to 5376\n",
            "Data columns (total 15 columns):\n",
            " #   Column  Non-Null Count  Dtype \n",
            "---  ------  --------------  ----- \n",
            " 0   rank    5377 non-null   int64 \n",
            " 1   city    5377 non-null   object\n",
            " 2   avg     5377 non-null   int64 \n",
            " 3   jan     5377 non-null   object\n",
            " 4   feb     5377 non-null   object\n",
            " 5   mar     5377 non-null   object\n",
            " 6   apr     5377 non-null   object\n",
            " 7   may     5377 non-null   object\n",
            " 8   jun     5377 non-null   object\n",
            " 9   jul     5377 non-null   object\n",
            " 10  aug     5377 non-null   object\n",
            " 11  sep     5377 non-null   object\n",
            " 12  oct     5377 non-null   object\n",
            " 13  nov     5377 non-null   object\n",
            " 14  dec     5377 non-null   object\n",
            "dtypes: int64(2), object(13)\n",
            "memory usage: 630.2+ KB\n"
          ]
        }
      ]
    },
    {
      "cell_type": "markdown",
      "source": [
        "7. Datatypes of Dataset"
      ],
      "metadata": {
        "id": "DdBepF27tgcT"
      }
    },
    {
      "cell_type": "code",
      "source": [
        "df.dtypes"
      ],
      "metadata": {
        "colab": {
          "base_uri": "https://localhost:8080/",
          "height": 554
        },
        "id": "TnRHt2s10Jzt",
        "outputId": "fec99f25-9fb3-4465-9298-2b48ae3d1f07"
      },
      "execution_count": null,
      "outputs": [
        {
          "output_type": "execute_result",
          "data": {
            "text/plain": [
              "rank     int64\n",
              "city    object\n",
              "avg      int64\n",
              "jan     object\n",
              "feb     object\n",
              "mar     object\n",
              "apr     object\n",
              "may     object\n",
              "jun     object\n",
              "jul     object\n",
              "aug     object\n",
              "sep     object\n",
              "oct     object\n",
              "nov     object\n",
              "dec     object\n",
              "dtype: object"
            ],
            "text/html": [
              "<div>\n",
              "<style scoped>\n",
              "    .dataframe tbody tr th:only-of-type {\n",
              "        vertical-align: middle;\n",
              "    }\n",
              "\n",
              "    .dataframe tbody tr th {\n",
              "        vertical-align: top;\n",
              "    }\n",
              "\n",
              "    .dataframe thead th {\n",
              "        text-align: right;\n",
              "    }\n",
              "</style>\n",
              "<table border=\"1\" class=\"dataframe\">\n",
              "  <thead>\n",
              "    <tr style=\"text-align: right;\">\n",
              "      <th></th>\n",
              "      <th>0</th>\n",
              "    </tr>\n",
              "  </thead>\n",
              "  <tbody>\n",
              "    <tr>\n",
              "      <th>rank</th>\n",
              "      <td>int64</td>\n",
              "    </tr>\n",
              "    <tr>\n",
              "      <th>city</th>\n",
              "      <td>object</td>\n",
              "    </tr>\n",
              "    <tr>\n",
              "      <th>avg</th>\n",
              "      <td>int64</td>\n",
              "    </tr>\n",
              "    <tr>\n",
              "      <th>jan</th>\n",
              "      <td>object</td>\n",
              "    </tr>\n",
              "    <tr>\n",
              "      <th>feb</th>\n",
              "      <td>object</td>\n",
              "    </tr>\n",
              "    <tr>\n",
              "      <th>mar</th>\n",
              "      <td>object</td>\n",
              "    </tr>\n",
              "    <tr>\n",
              "      <th>apr</th>\n",
              "      <td>object</td>\n",
              "    </tr>\n",
              "    <tr>\n",
              "      <th>may</th>\n",
              "      <td>object</td>\n",
              "    </tr>\n",
              "    <tr>\n",
              "      <th>jun</th>\n",
              "      <td>object</td>\n",
              "    </tr>\n",
              "    <tr>\n",
              "      <th>jul</th>\n",
              "      <td>object</td>\n",
              "    </tr>\n",
              "    <tr>\n",
              "      <th>aug</th>\n",
              "      <td>object</td>\n",
              "    </tr>\n",
              "    <tr>\n",
              "      <th>sep</th>\n",
              "      <td>object</td>\n",
              "    </tr>\n",
              "    <tr>\n",
              "      <th>oct</th>\n",
              "      <td>object</td>\n",
              "    </tr>\n",
              "    <tr>\n",
              "      <th>nov</th>\n",
              "      <td>object</td>\n",
              "    </tr>\n",
              "    <tr>\n",
              "      <th>dec</th>\n",
              "      <td>object</td>\n",
              "    </tr>\n",
              "  </tbody>\n",
              "</table>\n",
              "</div><br><label><b>dtype:</b> object</label>"
            ]
          },
          "metadata": {},
          "execution_count": 9
        }
      ]
    },
    {
      "cell_type": "markdown",
      "source": [
        "8.Finding Duplicates"
      ],
      "metadata": {
        "id": "0v-fTqyQ6mto"
      }
    },
    {
      "cell_type": "code",
      "source": [
        "df.duplicated().sum()"
      ],
      "metadata": {
        "colab": {
          "base_uri": "https://localhost:8080/"
        },
        "id": "Uk1GpVt07bKm",
        "outputId": "907d2681-a4fe-491b-8db2-89565dce3386"
      },
      "execution_count": null,
      "outputs": [
        {
          "output_type": "execute_result",
          "data": {
            "text/plain": [
              "np.int64(0)"
            ]
          },
          "metadata": {},
          "execution_count": 10
        }
      ]
    },
    {
      "cell_type": "markdown",
      "source": [
        "9.Finding Null Values"
      ],
      "metadata": {
        "id": "IG4KT6MA7kaC"
      }
    },
    {
      "cell_type": "code",
      "source": [
        "df.isnull().sum()"
      ],
      "metadata": {
        "colab": {
          "base_uri": "https://localhost:8080/",
          "height": 554
        },
        "id": "UgEaWIBP7pQL",
        "outputId": "1ba0afb8-8297-4b3a-8a74-c7732403cc61"
      },
      "execution_count": null,
      "outputs": [
        {
          "output_type": "execute_result",
          "data": {
            "text/plain": [
              "rank    0\n",
              "city    0\n",
              "avg     0\n",
              "jan     0\n",
              "feb     0\n",
              "mar     0\n",
              "apr     0\n",
              "may     0\n",
              "jun     0\n",
              "jul     0\n",
              "aug     0\n",
              "sep     0\n",
              "oct     0\n",
              "nov     0\n",
              "dec     0\n",
              "dtype: int64"
            ],
            "text/html": [
              "<div>\n",
              "<style scoped>\n",
              "    .dataframe tbody tr th:only-of-type {\n",
              "        vertical-align: middle;\n",
              "    }\n",
              "\n",
              "    .dataframe tbody tr th {\n",
              "        vertical-align: top;\n",
              "    }\n",
              "\n",
              "    .dataframe thead th {\n",
              "        text-align: right;\n",
              "    }\n",
              "</style>\n",
              "<table border=\"1\" class=\"dataframe\">\n",
              "  <thead>\n",
              "    <tr style=\"text-align: right;\">\n",
              "      <th></th>\n",
              "      <th>0</th>\n",
              "    </tr>\n",
              "  </thead>\n",
              "  <tbody>\n",
              "    <tr>\n",
              "      <th>rank</th>\n",
              "      <td>0</td>\n",
              "    </tr>\n",
              "    <tr>\n",
              "      <th>city</th>\n",
              "      <td>0</td>\n",
              "    </tr>\n",
              "    <tr>\n",
              "      <th>avg</th>\n",
              "      <td>0</td>\n",
              "    </tr>\n",
              "    <tr>\n",
              "      <th>jan</th>\n",
              "      <td>0</td>\n",
              "    </tr>\n",
              "    <tr>\n",
              "      <th>feb</th>\n",
              "      <td>0</td>\n",
              "    </tr>\n",
              "    <tr>\n",
              "      <th>mar</th>\n",
              "      <td>0</td>\n",
              "    </tr>\n",
              "    <tr>\n",
              "      <th>apr</th>\n",
              "      <td>0</td>\n",
              "    </tr>\n",
              "    <tr>\n",
              "      <th>may</th>\n",
              "      <td>0</td>\n",
              "    </tr>\n",
              "    <tr>\n",
              "      <th>jun</th>\n",
              "      <td>0</td>\n",
              "    </tr>\n",
              "    <tr>\n",
              "      <th>jul</th>\n",
              "      <td>0</td>\n",
              "    </tr>\n",
              "    <tr>\n",
              "      <th>aug</th>\n",
              "      <td>0</td>\n",
              "    </tr>\n",
              "    <tr>\n",
              "      <th>sep</th>\n",
              "      <td>0</td>\n",
              "    </tr>\n",
              "    <tr>\n",
              "      <th>oct</th>\n",
              "      <td>0</td>\n",
              "    </tr>\n",
              "    <tr>\n",
              "      <th>nov</th>\n",
              "      <td>0</td>\n",
              "    </tr>\n",
              "    <tr>\n",
              "      <th>dec</th>\n",
              "      <td>0</td>\n",
              "    </tr>\n",
              "  </tbody>\n",
              "</table>\n",
              "</div><br><label><b>dtype:</b> int64</label>"
            ]
          },
          "metadata": {},
          "execution_count": 11
        }
      ]
    },
    {
      "cell_type": "markdown",
      "source": [
        "**SUMMARY**\n",
        "\n",
        "- Successfully Dataset loaded and features Explained.\n",
        "- Conluded the datatype,Dataset shape, Missing Values.\n",
        "- Analyzed the statistical summary of Columns."
      ],
      "metadata": {
        "id": "arGCOc6E71bH"
      }
    },
    {
      "cell_type": "markdown",
      "source": [
        "#**STAGE - 2**\n",
        "\n",
        "\n",
        "- **HANDLING MISSING VALUES**"
      ],
      "metadata": {
        "id": "S_bHY8uMczi0"
      }
    },
    {
      "cell_type": "code",
      "source": [
        "print(\"Total Missing Values:\",df.isnull().sum())\n"
      ],
      "metadata": {
        "colab": {
          "base_uri": "https://localhost:8080/"
        },
        "id": "yx67qUuox_Wi",
        "outputId": "3fd5b3ae-4943-4243-a905-f477418eded7"
      },
      "execution_count": null,
      "outputs": [
        {
          "output_type": "stream",
          "name": "stdout",
          "text": [
            "Total Missing Values: rank    0\n",
            "city    0\n",
            "avg     0\n",
            "jan     0\n",
            "feb     0\n",
            "mar     0\n",
            "apr     0\n",
            "may     0\n",
            "jun     0\n",
            "jul     0\n",
            "aug     0\n",
            "sep     0\n",
            "oct     0\n",
            "nov     0\n",
            "dec     0\n",
            "dtype: int64\n"
          ]
        }
      ]
    },
    {
      "cell_type": "markdown",
      "source": [
        "No Missing Values"
      ],
      "metadata": {
        "id": "lVz3mUELyfxy"
      }
    },
    {
      "cell_type": "markdown",
      "source": [
        "- **HANDLING DUPLICATES**"
      ],
      "metadata": {
        "id": "VNgF1sBvyj-L"
      }
    },
    {
      "cell_type": "code",
      "source": [
        "print(\"Total duplicate rows:\", df.duplicated().sum())"
      ],
      "metadata": {
        "colab": {
          "base_uri": "https://localhost:8080/"
        },
        "id": "hgQFmOeMyjq_",
        "outputId": "7ac463cc-2f55-426f-8b86-cbfa101fbf45"
      },
      "execution_count": 18,
      "outputs": [
        {
          "output_type": "stream",
          "name": "stdout",
          "text": [
            "Total duplicate rows: 0\n"
          ]
        }
      ]
    },
    {
      "cell_type": "markdown",
      "source": [
        "- **HANDLING OUTLIERS**"
      ],
      "metadata": {
        "id": "vebGr9KJzEPf"
      }
    },
    {
      "cell_type": "markdown",
      "source": [
        "SHAPE OF THE DATASET BEFORE REMOVAL OF OUTLIERS"
      ],
      "metadata": {
        "id": "iY9sUUQh4dVe"
      }
    },
    {
      "cell_type": "code",
      "source": [
        "original_shape = df.shape\n",
        "print(\"Dataset shape BEFORE outlier removal:\", original_shape)"
      ],
      "metadata": {
        "colab": {
          "base_uri": "https://localhost:8080/"
        },
        "id": "nyZzVSIj0NVx",
        "outputId": "a31232e5-f3d4-4bc0-ca6e-39f39dcfb0dc"
      },
      "execution_count": 19,
      "outputs": [
        {
          "output_type": "stream",
          "name": "stdout",
          "text": [
            "Dataset shape BEFORE outlier removal: (4831, 15)\n"
          ]
        }
      ]
    },
    {
      "cell_type": "code",
      "source": [
        "numeric_cols = df.select_dtypes(include=['int64', 'float64']).columns\n",
        "print(\"Numeric columns:\", numeric_cols)"
      ],
      "metadata": {
        "colab": {
          "base_uri": "https://localhost:8080/"
        },
        "id": "pRbOeAA20zfr",
        "outputId": "c840aacf-8b0c-4a7c-c681-8fc492b5dd66"
      },
      "execution_count": 20,
      "outputs": [
        {
          "output_type": "stream",
          "name": "stdout",
          "text": [
            "Numeric columns: Index(['rank', 'avg'], dtype='object')\n"
          ]
        }
      ]
    },
    {
      "cell_type": "markdown",
      "source": [
        "BOXPLOT BEFORE OUTLIERS REMOVAL"
      ],
      "metadata": {
        "id": "NEOLtgtL3z_9"
      }
    },
    {
      "cell_type": "code",
      "source": [
        "plt.figure(figsize=(10,5))\n",
        "sns.boxplot(data=df[numeric_cols])\n",
        "plt.title(\"Boxplot Before Removing Outlier for Numarical Column\")\n",
        "plt.xticks(rotation=90)\n",
        "plt.show()"
      ],
      "metadata": {
        "colab": {
          "base_uri": "https://localhost:8080/",
          "height": 485
        },
        "id": "Ck8Aok-c0i6B",
        "outputId": "48d9e8ec-3c4e-45d4-e677-5642023d76a6"
      },
      "execution_count": 21,
      "outputs": [
        {
          "output_type": "display_data",
          "data": {
            "text/plain": [
              "<Figure size 1000x500 with 1 Axes>"
            ],
            "image/png": "[encoded data removed]"
          },
          "metadata": {}
        }
      ]
    },
    {
      "cell_type": "markdown",
      "source": [
        "**USING IQR METHOD**"
      ],
      "metadata": {
        "id": "I0pGq9OX0_i1"
      }
    },
    {
      "cell_type": "code",
      "source": [
        "for col in df.select_dtypes(include=np.number).columns:\n",
        "    Q1 = df[col].quantile(0.25)\n",
        "    Q3 = df[col].quantile(0.75)\n",
        "    IQR = Q3 - Q1\n",
        "    lower = Q1 - 1.5 * IQR\n",
        "    upper = Q3 + 1.5 * IQR\n",
        "    df = df[(df[col] >= lower) & (df[col] <= upper)]"
      ],
      "metadata": {
        "id": "x2jpn-Zb1Csl"
      },
      "execution_count": 22,
      "outputs": []
    },
    {
      "cell_type": "code",
      "source": [
        "lower_band = Q1 - 1.5 * IQR\n",
        "lower_band"
      ],
      "metadata": {
        "colab": {
          "base_uri": "https://localhost:8080/"
        },
        "id": "Rk3T3R2Z1GzK",
        "outputId": "038de423-7fb1-4773-c146-90377b6ceef4"
      },
      "execution_count": 23,
      "outputs": [
        {
          "output_type": "execute_result",
          "data": {
            "text/plain": [
              "np.float64(-10.0)"
            ]
          },
          "metadata": {},
          "execution_count": 23
        }
      ]
    },
    {
      "cell_type": "code",
      "source": [
        "upper_band = Q3 + 1.5 * IQR\n",
        "upper_band"
      ],
      "metadata": {
        "colab": {
          "base_uri": "https://localhost:8080/"
        },
        "id": "AolzUWfd1YAA",
        "outputId": "6a425004-be95-4413-eb0f-ede19030ea36"
      },
      "execution_count": 24,
      "outputs": [
        {
          "output_type": "execute_result",
          "data": {
            "text/plain": [
              "np.float64(54.0)"
            ]
          },
          "metadata": {},
          "execution_count": 24
        }
      ]
    },
    {
      "cell_type": "markdown",
      "source": [
        "SHAPE OF THE DATASET AFTER REMOVAL OF OUTLIERS"
      ],
      "metadata": {
        "id": "4w-wCiTo4QRA"
      }
    },
    {
      "cell_type": "code",
      "source": [
        "original_shape = df.shape\n",
        "print(\"Dataset shape AFTER outlier removal:\", original_shape)"
      ],
      "metadata": {
        "colab": {
          "base_uri": "https://localhost:8080/"
        },
        "id": "aQ8ToOe816yr",
        "outputId": "3684d5ad-dc09-4844-ad4c-2c5089f31998"
      },
      "execution_count": 25,
      "outputs": [
        {
          "output_type": "stream",
          "name": "stdout",
          "text": [
            "Dataset shape AFTER outlier removal: (4563, 15)\n"
          ]
        }
      ]
    },
    {
      "cell_type": "markdown",
      "source": [
        "BOXPLOT AFTER OUTLIERS REMOVAL"
      ],
      "metadata": {
        "id": "sQn_qhYi4Jvm"
      }
    },
    {
      "cell_type": "code",
      "source": [
        "plt.figure(figsize=(12,6))\n",
        "df[numeric_cols].boxplot(rot=45)\n",
        "plt.title(\"Boxplot After Removing outliers for Numeric columns\")\n",
        "plt.show()"
      ],
      "metadata": {
        "colab": {
          "base_uri": "https://localhost:8080/",
          "height": 563
        },
        "id": "PAXVYgqx3UpN",
        "outputId": "da189b57-6b4a-4285-af6b-731fe1537729"
      },
      "execution_count": 26,
      "outputs": [
        {
          "output_type": "display_data",
          "data": {
            "text/plain": [
              "<Figure size 1200x600 with 1 Axes>"
            ],
            "image/png": "[encoded data removed]"
          },
          "metadata": {}
        }
      ]
    },
    {
      "cell_type": "markdown",
      "source": [
        "- **HANDLING SKEWNESS**"
      ],
      "metadata": {
        "id": "J5Pwk-d25pQo"
      }
    },
    {
      "cell_type": "code",
      "source": [
        "from scipy.stats import skew\n",
        "skew_values = df[numeric_cols].apply(lambda x: skew(x))\n",
        "print(\"\\nSkewness before transformation:\\n\", skew_values)\n"
      ],
      "metadata": {
        "colab": {
          "base_uri": "https://localhost:8080/"
        },
        "id": "GhqCevWg5t3O",
        "outputId": "e5abe834-073a-4b94-d322-99f1708e76f5"
      },
      "execution_count": 27,
      "outputs": [
        {
          "output_type": "stream",
          "name": "stdout",
          "text": [
            "\n",
            "Skewness before transformation:\n",
            " rank    0.000000\n",
            "avg     0.272669\n",
            "dtype: float64\n"
          ]
        }
      ]
    },
    {
      "cell_type": "code",
      "source": [
        "skewed_cols = skew_values[abs(skew_values) > 1].index\n",
        "print(\"\\nColumns to be log-transformed:\", list(skewed_cols))\n",
        "for col in skewed_cols:\n",
        "    df[col] = np.log1p(df[col])"
      ],
      "metadata": {
        "colab": {
          "base_uri": "https://localhost:8080/"
        },
        "id": "lo36yQCq6rOL",
        "outputId": "df2fb459-a654-4157-ad53-e089d4302c80"
      },
      "execution_count": 28,
      "outputs": [
        {
          "output_type": "stream",
          "name": "stdout",
          "text": [
            "\n",
            "Columns to be log-transformed: []\n"
          ]
        }
      ]
    },
    {
      "cell_type": "code",
      "source": [
        "skew_after = df[numeric_cols].apply(lambda x: skew(x))\n",
        "print(\"\\nSkewness after transformation:\\n\", skew_after)"
      ],
      "metadata": {
        "colab": {
          "base_uri": "https://localhost:8080/"
        },
        "id": "Xv9w5-GnCmxB",
        "outputId": "d70b0125-7181-4ab1-fd22-9870b2e6c525"
      },
      "execution_count": 29,
      "outputs": [
        {
          "output_type": "stream",
          "name": "stdout",
          "text": [
            "\n",
            "Skewness after transformation:\n",
            " rank    0.000000\n",
            "avg     0.272669\n",
            "dtype: float64\n"
          ]
        }
      ]
    },
    {
      "cell_type": "markdown",
      "source": [
        "**UNIVARIATE ANALYSIS**"
      ],
      "metadata": {
        "id": "1jPc__n77VhY"
      }
    },
    {
      "cell_type": "markdown",
      "source": [
        "- **HISTOGRAM CHART**"
      ],
      "metadata": {
        "id": "Up4LooJcG4RA"
      }
    },
    {
      "cell_type": "code",
      "source": [
        "plt.figure(figsize=(18,12))\n",
        "for i, col in enumerate(numeric_cols):\n",
        "    plt.subplot(4,3,i+1)\n",
        "    sns.histplot(df[col], kde=True, bins=20, color='lightgreen')\n",
        "    plt.title(f\"{col} (Skewness = {skew_after[col]:.2f})\")\n",
        "plt.tight_layout()\n",
        "plt.show()"
      ],
      "metadata": {
        "colab": {
          "base_uri": "https://localhost:8080/",
          "height": 345
        },
        "id": "PuX_NI8W7gha",
        "outputId": "c36b7091-0910-488a-89c5-3f9c25a7984a"
      },
      "execution_count": 30,
      "outputs": [
        {
          "output_type": "display_data",
          "data": {
            "text/plain": [
              "<Figure size 1800x1200 with 2 Axes>"
            ],
            "image/png": "[encoded data removed]"
          },
          "metadata": {}
        }
      ]
    },
    {
      "cell_type": "markdown",
      "source": [
        "**Interpretation**\n",
        "\n",
        "Histograms reveal seasonal patterns and which months have high pollution."
      ],
      "metadata": {
        "id": "EaOMRuOEDfvp"
      }
    },
    {
      "cell_type": "markdown",
      "source": [
        "- **BOXPLOT CHART**"
      ],
      "metadata": {
        "id": "F7Uczq7bGyjn"
      }
    },
    {
      "cell_type": "code",
      "source": [
        "plt.figure(figsize=(12,6))\n",
        "sns.boxplot(data=df[numeric_cols])\n",
        "plt.title(\"Boxplot of Numeric Columns (Post Transformation)\")\n",
        "plt.xticks(rotation=90)\n",
        "plt.show()"
      ],
      "metadata": {
        "colab": {
          "base_uri": "https://localhost:8080/",
          "height": 562
        },
        "id": "G8_wkk-ADisW",
        "outputId": "70a4b476-42bd-4ede-f987-34772442c1d1"
      },
      "execution_count": 31,
      "outputs": [
        {
          "output_type": "display_data",
          "data": {
            "text/plain": [
              "<Figure size 1200x600 with 1 Axes>"
            ],
            "image/png": "[encoded data removed]"
          },
          "metadata": {}
        }
      ]
    },
    {
      "cell_type": "markdown",
      "source": [
        "**Interpretation**\n",
        "\n",
        "Boxplots clearly show outliers and variation across months. Winter months have higher spread; summer months are more consistent."
      ],
      "metadata": {
        "id": "MkQ0_he0D9HO"
      }
    },
    {
      "cell_type": "markdown",
      "source": [
        "**BIVARIATE ANALYSIS**"
      ],
      "metadata": {
        "id": "4cesM1MkEIXg"
      }
    },
    {
      "cell_type": "markdown",
      "source": [
        "- **HEATMAP CHART**"
      ],
      "metadata": {
        "id": "5y1xOS4WGl4V"
      }
    },
    {
      "cell_type": "code",
      "source": [
        "plt.figure(figsize=(12,8))\n",
        "sns.heatmap(df[numeric_cols].corr(), annot=True, cmap='coolwarm', fmt=\".2f\")\n",
        "plt.title(\"Correlation Heatmap\")\n",
        "plt.show()\n"
      ],
      "metadata": {
        "colab": {
          "base_uri": "https://localhost:8080/",
          "height": 699
        },
        "id": "Lpi-OBV-ERgy",
        "outputId": "e5f72acc-5665-40b4-8290-c29e183f2a1a"
      },
      "execution_count": 32,
      "outputs": [
        {
          "output_type": "display_data",
          "data": {
            "text/plain": [
              "<Figure size 1200x800 with 2 Axes>"
            ],
            "image/png": "[encoded data removed]"
          },
          "metadata": {}
        }
      ]
    },
    {
      "cell_type": "markdown",
      "source": [
        "**Interpretation**\n",
        "\n",
        "Correlation heatmap identifies which months are important predictors of December AQI for regression models."
      ],
      "metadata": {
        "id": "Gx1C53bREhVg"
      }
    },
    {
      "cell_type": "markdown",
      "source": [
        "- **SCATTERPLOT CHART**"
      ],
      "metadata": {
        "id": "r0cVPPpLGsc3"
      }
    },
    {
      "cell_type": "code",
      "source": [
        "for col in numeric_cols[:-1]:\n",
        "    plt.figure(figsize=(10,5))\n",
        "    sns.scatterplot(x=df[col], y=df['dec'])\n",
        "    plt.title(f\"December AQI vs {col}\")\n",
        "    plt.show()"
      ],
      "metadata": {
        "colab": {
          "base_uri": "https://localhost:8080/",
          "height": 487
        },
        "id": "xhBEOL-6EnJr",
        "outputId": "4eda5fee-48e2-4499-8f6c-45567185e9e6"
      },
      "execution_count": 33,
      "outputs": [
        {
          "output_type": "display_data",
          "data": {
            "text/plain": [
              "<Figure size 1000x500 with 1 Axes>"
            ],
            "image/png": "[encoded data removed]"
          },
          "metadata": {}
        }
      ]
    },
    {
      "cell_type": "markdown",
      "source": [
        "**Interpretation**\n",
        "\n",
        "Scatter plots confirm strong predictors (Oct, Nov) and weak predictors (Jun–Aug), guiding feature selection for your ML model."
      ],
      "metadata": {
        "id": "EotTvdQkFMXe"
      }
    },
    {
      "cell_type": "markdown",
      "source": [
        "#**STAGE - 3**"
      ],
      "metadata": {
        "id": "RTzYDky-GUAA"
      }
    },
    {
      "cell_type": "markdown",
      "source": [
        "-  **Feature Engineering**"
      ],
      "metadata": {
        "id": "9zbvYPfGGeLT"
      }
    },
    {
      "cell_type": "markdown",
      "source": [
        "- Model Building"
      ],
      "metadata": {
        "id": "OD5311sIHpBS"
      }
    },
    {
      "cell_type": "code",
      "source": [
        "from sklearn.model_selection import train_test_split\n",
        "from sklearn.preprocessing import StandardScaler\n",
        "from sklearn.linear_model import LinearRegression\n",
        "from sklearn.tree import DecisionTreeRegressor\n",
        "from sklearn.ensemble import RandomForestRegressor\n",
        "from sklearn.metrics import r2_score, mean_squared_error\n",
        "from sklearn.feature_selection import SelectKBest, f_regression\n"
      ],
      "metadata": {
        "id": "Q8ZPonaBHg2Q"
      },
      "execution_count": 40,
      "outputs": []
    },
    {
      "cell_type": "markdown",
      "source": [
        "Selecting Numeric columns & Target column  for feature scaling"
      ],
      "metadata": {
        "id": "88Rpq40nIKFD"
      }
    },
    {
      "cell_type": "code",
      "source": [
        "numeric_cols = ['jan','feb','mar','apr','may','jun','jul','aug','sep','oct','nov']\n",
        "target_col = 'dec'"
      ],
      "metadata": {
        "id": "xwi0t-F5IOnX"
      },
      "execution_count": 36,
      "outputs": []
    },
    {
      "cell_type": "markdown",
      "source": [
        "Feature Matrix (X) and Target Vector (Y)"
      ],
      "metadata": {
        "id": "L8D7bXrKbQoS"
      }
    },
    {
      "cell_type": "code",
      "source": [
        "X = df[numeric_cols].apply(pd.to_numeric, errors='coerce')\n",
        "y = pd.to_numeric(df[target_col], errors='coerce')"
      ],
      "metadata": {
        "id": "cjSmsbZhNy2o"
      },
      "execution_count": 37,
      "outputs": []
    },
    {
      "cell_type": "markdown",
      "source": [
        "Combine X and Y to remove rows with missing values"
      ],
      "metadata": {
        "id": "ORJgaWKIbgJD"
      }
    },
    {
      "cell_type": "code",
      "source": [
        "df_clean = pd.concat([X, y], axis=1).dropna()\n",
        "X = df_clean[numeric_cols]\n",
        "y = df_clean[target_col]\n",
        "\n",
        "print(\" Cleaned Data Shape:\", df_clean.shape)"
      ],
      "metadata": {
        "id": "l46rInAAN27F",
        "colab": {
          "base_uri": "https://localhost:8080/"
        },
        "outputId": "365ba5ab-e993-4abf-b06b-a01aeec08d84"
      },
      "execution_count": 38,
      "outputs": [
        {
          "output_type": "stream",
          "name": "stdout",
          "text": [
            " Cleaned Data Shape: (3641, 12)\n"
          ]
        }
      ]
    },
    {
      "cell_type": "markdown",
      "source": [
        "- **Feature Selection**"
      ],
      "metadata": {
        "id": "s8e9lpjuYgRX"
      }
    },
    {
      "cell_type": "code",
      "source": [
        "selector = SelectKBest(score_func=f_regression, k=5)\n",
        "X_new = selector.fit_transform(X, y)\n",
        "\n",
        "selected_features = X.columns[selector.get_support()]\n",
        "print(\"\\n Top Selected Features:\", list(selected_features))"
      ],
      "metadata": {
        "id": "DR8XPQCoLVsK",
        "colab": {
          "base_uri": "https://localhost:8080/"
        },
        "outputId": "c68b00c4-fc83-4513-cd5d-d5da4742ca0c"
      },
      "execution_count": 41,
      "outputs": [
        {
          "output_type": "stream",
          "name": "stdout",
          "text": [
            "\n",
            " Top Selected Features: ['jan', 'feb', 'mar', 'oct', 'nov']\n"
          ]
        }
      ]
    },
    {
      "cell_type": "markdown",
      "source": [
        "- **Train** Test Split"
      ],
      "metadata": {
        "id": "TwGEwhjROian"
      }
    },
    {
      "cell_type": "code",
      "source": [
        "X_train, X_test, y_train, y_test = train_test_split(X[selected_features], y, test_size=0.2, random_state=42)\n",
        "print(\"Training Set Shape:\", X_train.shape)\n",
        "print(\"Testing Set Shape:\", X_test.shape)"
      ],
      "metadata": {
        "colab": {
          "base_uri": "https://localhost:8080/"
        },
        "id": "JueBOIejOpep",
        "outputId": "d2e8ab8e-0cb2-49f3-cf3f-b8bc571a32d1"
      },
      "execution_count": 42,
      "outputs": [
        {
          "output_type": "stream",
          "name": "stdout",
          "text": [
            "Training Set Shape: (2912, 5)\n",
            "Testing Set Shape: (729, 5)\n"
          ]
        }
      ]
    },
    {
      "cell_type": "markdown",
      "source": [
        "- **Feature Scaling**"
      ],
      "metadata": {
        "id": "WKQlSOobX7_V"
      }
    },
    {
      "cell_type": "code",
      "source": [
        "from sklearn.preprocessing import StandardScaler\n",
        "scaler = StandardScaler()\n",
        "X_train_scaled = scaler.fit_transform(X_train)\n",
        "X_test_scaled = scaler.transform(X_test)"
      ],
      "metadata": {
        "id": "dZIJdiXaW0mF"
      },
      "execution_count": 43,
      "outputs": []
    },
    {
      "cell_type": "markdown",
      "source": [
        "- **Model Building**"
      ],
      "metadata": {
        "id": "50y0SimvXqda"
      }
    },
    {
      "cell_type": "code",
      "source": [
        "models = {\n",
        "    \"Linear Regression\": LinearRegression(),\n",
        "    \"Random Forest Regressor\": RandomForestRegressor(random_state=42)\n",
        "}\n",
        "\n",
        "results = []\n",
        "\n",
        "for name, model in models.items():\n",
        "    model.fit(X_train_scaled, y_train)\n",
        "    y_pred = model.predict(X_test_scaled)\n",
        "\n",
        "    r2 = r2_score(y_test, y_pred)\n",
        "    rmse = np.sqrt(mean_squared_error(y_test, y_pred))\n",
        "\n",
        "    results.append({\"Model\": name, \"R² Score\": r2, \"RMSE\": rmse})\n"
      ],
      "metadata": {
        "id": "ThtRcE-ZXH6b"
      },
      "execution_count": 44,
      "outputs": []
    },
    {
      "cell_type": "markdown",
      "source": [
        "#**STAGE - 4**"
      ],
      "metadata": {
        "id": "im-9dJgQYMxI"
      }
    },
    {
      "cell_type": "markdown",
      "source": [
        "- **Model Comparision**"
      ],
      "metadata": {
        "id": "kRukNatwcRBo"
      }
    },
    {
      "cell_type": "code",
      "source": [
        "results_df = pd.DataFrame(results)\n",
        "print(\"\\n Model Comparison:\\n\", results_df)\n"
      ],
      "metadata": {
        "colab": {
          "base_uri": "https://localhost:8080/"
        },
        "id": "H1nahsf6Xcxe",
        "outputId": "6f23763e-e91d-4bbe-b1e0-cc5ac7cd1426"
      },
      "execution_count": 45,
      "outputs": [
        {
          "output_type": "stream",
          "name": "stdout",
          "text": [
            "\n",
            " Model Comparison:\n",
            "                      Model  R² Score      RMSE\n",
            "0        Linear Regression  0.720313  9.720972\n",
            "1  Random Forest Regressor  0.730899  9.535239\n"
          ]
        }
      ]
    },
    {
      "cell_type": "markdown",
      "source": [
        "- **Hyperparameter Tuning**"
      ],
      "metadata": {
        "id": "Ze2yvkvIZp5o"
      }
    },
    {
      "cell_type": "code",
      "source": [
        "from sklearn.model_selection import GridSearchCV\n",
        "from sklearn.ensemble import RandomForestRegressor\n"
      ],
      "metadata": {
        "id": "3eB1h2dhZwve"
      },
      "execution_count": 46,
      "outputs": []
    },
    {
      "cell_type": "markdown",
      "source": [
        "-  **Model - Random Forest Regressor**"
      ],
      "metadata": {
        "id": "aSzt9KyRZ8St"
      }
    },
    {
      "cell_type": "code",
      "source": [
        "rf = RandomForestRegressor(random_state=42)\n",
        "\n",
        "param_grid = {\n",
        "    'n_estimators': [50, 100, 150],\n",
        "    'max_depth': [5, 10, 15, None],\n",
        "    'min_samples_split': [2, 5, 10],\n",
        "    'min_samples_leaf': [1, 2, 4]\n",
        "}\n",
        "\n",
        "grid_search = GridSearchCV(\n",
        "    estimator=rf,\n",
        "    param_grid=param_grid,\n",
        "    cv=3,\n",
        "    n_jobs=-1,\n",
        "    scoring='r2',\n",
        "    verbose=1\n",
        ")"
      ],
      "metadata": {
        "id": "U4u2-X7PaNam"
      },
      "execution_count": 47,
      "outputs": []
    },
    {
      "cell_type": "code",
      "source": [
        "grid_search.fit(X_train_scaled, y_train)"
      ],
      "metadata": {
        "colab": {
          "base_uri": "https://localhost:8080/",
          "height": 183
        },
        "id": "FTggKq8rbGv9",
        "outputId": "8256b8d1-e1c8-41a7-9815-d4aabbd904f5"
      },
      "execution_count": 48,
      "outputs": [
        {
          "output_type": "stream",
          "name": "stdout",
          "text": [
            "Fitting 3 folds for each of 108 candidates, totalling 324 fits\n"
          ]
        },
        {
          "output_type": "execute_result",
          "data": {
            "text/plain": [
              "GridSearchCV(cv=3, estimator=RandomForestRegressor(random_state=42), n_jobs=-1,\n",
              "             param_grid={'max_depth': [5, 10, 15, None],\n",
              "                         'min_samples_leaf': [1, 2, 4],\n",
              "                         'min_samples_split': [2, 5, 10],\n",
              "                         'n_estimators': [50, 100, 150]},\n",
              "             scoring='r2', verbose=1)"
            ],
            "text/html": [
              "<style>#sk-container-id-1 {\n",
              "  /* Definition of color scheme common for light and dark mode */\n",
              "  --sklearn-color-text: #000;\n",
              "  --sklearn-color-text-muted: #666;\n",
              "  --sklearn-color-line: gray;\n",
              "  /* Definition of color scheme for unfitted estimators */\n",
              "  --sklearn-color-unfitted-level-0: #fff5e6;\n",
              "  --sklearn-color-unfitted-level-1: #f6e4d2;\n",
              "  --sklearn-color-unfitted-level-2: #ffe0b3;\n",
              "  --sklearn-color-unfitted-level-3: chocolate;\n",
              "  /* Definition of color scheme for fitted estimators */\n",
              "  --sklearn-color-fitted-level-0: #f0f8ff;\n",
              "  --sklearn-color-fitted-level-1: #d4ebff;\n",
              "  --sklearn-color-fitted-level-2: #b3dbfd;\n",
              "  --sklearn-color-fitted-level-3: cornflowerblue;\n",
              "\n",
              "  /* Specific color for light theme */\n",
              "  --sklearn-color-text-on-default-background: var(--sg-text-color, var(--theme-code-foreground, var(--jp-content-font-color1, black)));\n",
              "  --sklearn-color-background: var(--sg-background-color, var(--theme-background, var(--jp-layout-color0, white)));\n",
              "  --sklearn-color-border-box: var(--sg-text-color, var(--theme-code-foreground, var(--jp-content-font-color1, black)));\n",
              "  --sklearn-color-icon: #696969;\n",
              "\n",
              "  @media (prefers-color-scheme: dark) {\n",
              "    /* Redefinition of color scheme for dark theme */\n",
              "    --sklearn-color-text-on-default-background: var(--sg-text-color, var(--theme-code-foreground, var(--jp-content-font-color1, white)));\n",
              "    --sklearn-color-background: var(--sg-background-color, var(--theme-background, var(--jp-layout-color0, #111)));\n",
              "    --sklearn-color-border-box: var(--sg-text-color, var(--theme-code-foreground, var(--jp-content-font-color1, white)));\n",
              "    --sklearn-color-icon: #878787;\n",
              "  }\n",
              "}\n",
              "\n",
              "#sk-container-id-1 {\n",
              "  color: var(--sklearn-color-text);\n",
              "}\n",
              "\n",
              "#sk-container-id-1 pre {\n",
              "  padding: 0;\n",
              "}\n",
              "\n",
              "#sk-container-id-1 input.sk-hidden--visually {\n",
              "  border: 0;\n",
              "  clip: rect(1px 1px 1px 1px);\n",
              "  clip: rect(1px, 1px, 1px, 1px);\n",
              "  height: 1px;\n",
              "  margin: -1px;\n",
              "  overflow: hidden;\n",
              "  padding: 0;\n",
              "  position: absolute;\n",
              "  width: 1px;\n",
              "}\n",
              "\n",
              "#sk-container-id-1 div.sk-dashed-wrapped {\n",
              "  border: 1px dashed var(--sklearn-color-line);\n",
              "  margin: 0 0.4em 0.5em 0.4em;\n",
              "  box-sizing: border-box;\n",
              "  padding-bottom: 0.4em;\n",
              "  background-color: var(--sklearn-color-background);\n",
              "}\n",
              "\n",
              "#sk-container-id-1 div.sk-container {\n",
              "  /* jupyter's `normalize.less` sets `[hidden] { display: none; }`\n",
              "     but bootstrap.min.css set `[hidden] { display: none !important; }`\n",
              "     so we also need the `!important` here to be able to override the\n",
              "     default hidden behavior on the sphinx rendered scikit-learn.org.\n",
              "     See: https://github.com/scikit-learn/scikit-learn/issues/21755 */\n",
              "  display: inline-block !important;\n",
              "  position: relative;\n",
              "}\n",
              "\n",
              "#sk-container-id-1 div.sk-text-repr-fallback {\n",
              "  display: none;\n",
              "}\n",
              "\n",
              "div.sk-parallel-item,\n",
              "div.sk-serial,\n",
              "div.sk-item {\n",
              "  /* draw centered vertical line to link estimators */\n",
              "  background-image: linear-gradient(var(--sklearn-color-text-on-default-background), var(--sklearn-color-text-on-default-background));\n",
              "  background-size: 2px 100%;\n",
              "  background-repeat: no-repeat;\n",
              "  background-position: center center;\n",
              "}\n",
              "\n",
              "/* Parallel-specific style estimator block */\n",
              "\n",
              "#sk-container-id-1 div.sk-parallel-item::after {\n",
              "  content: \"\";\n",
              "  width: 100%;\n",
              "  border-bottom: 2px solid var(--sklearn-color-text-on-default-background);\n",
              "  flex-grow: 1;\n",
              "}\n",
              "\n",
              "#sk-container-id-1 div.sk-parallel {\n",
              "  display: flex;\n",
              "  align-items: stretch;\n",
              "  justify-content: center;\n",
              "  background-color: var(--sklearn-color-background);\n",
              "  position: relative;\n",
              "}\n",
              "\n",
              "#sk-container-id-1 div.sk-parallel-item {\n",
              "  display: flex;\n",
              "  flex-direction: column;\n",
              "}\n",
              "\n",
              "#sk-container-id-1 div.sk-parallel-item:first-child::after {\n",
              "  align-self: flex-end;\n",
              "  width: 50%;\n",
              "}\n",
              "\n",
              "#sk-container-id-1 div.sk-parallel-item:last-child::after {\n",
              "  align-self: flex-start;\n",
              "  width: 50%;\n",
              "}\n",
              "\n",
              "#sk-container-id-1 div.sk-parallel-item:only-child::after {\n",
              "  width: 0;\n",
              "}\n",
              "\n",
              "/* Serial-specific style estimator block */\n",
              "\n",
              "#sk-container-id-1 div.sk-serial {\n",
              "  display: flex;\n",
              "  flex-direction: column;\n",
              "  align-items: center;\n",
              "  background-color: var(--sklearn-color-background);\n",
              "  padding-right: 1em;\n",
              "  padding-left: 1em;\n",
              "}\n",
              "\n",
              "\n",
              "/* Toggleable style: style used for estimator/Pipeline/ColumnTransformer box that is\n",
              "clickable and can be expanded/collapsed.\n",
              "- Pipeline and ColumnTransformer use this feature and define the default style\n",
              "- Estimators will overwrite some part of the style using the `sk-estimator` class\n",
              "*/\n",
              "\n",
              "/* Pipeline and ColumnTransformer style (default) */\n",
              "\n",
              "#sk-container-id-1 div.sk-toggleable {\n",
              "  /* Default theme specific background. It is overwritten whether we have a\n",
              "  specific estimator or a Pipeline/ColumnTransformer */\n",
              "  background-color: var(--sklearn-color-background);\n",
              "}\n",
              "\n",
              "/* Toggleable label */\n",
              "#sk-container-id-1 label.sk-toggleable__label {\n",
              "  cursor: pointer;\n",
              "  display: flex;\n",
              "  width: 100%;\n",
              "  margin-bottom: 0;\n",
              "  padding: 0.5em;\n",
              "  box-sizing: border-box;\n",
              "  text-align: center;\n",
              "  align-items: start;\n",
              "  justify-content: space-between;\n",
              "  gap: 0.5em;\n",
              "}\n",
              "\n",
              "#sk-container-id-1 label.sk-toggleable__label .caption {\n",
              "  font-size: 0.6rem;\n",
              "  font-weight: lighter;\n",
              "  color: var(--sklearn-color-text-muted);\n",
              "}\n",
              "\n",
              "#sk-container-id-1 label.sk-toggleable__label-arrow:before {\n",
              "  /* Arrow on the left of the label */\n",
              "  content: \"▸\";\n",
              "  float: left;\n",
              "  margin-right: 0.25em;\n",
              "  color: var(--sklearn-color-icon);\n",
              "}\n",
              "\n",
              "#sk-container-id-1 label.sk-toggleable__label-arrow:hover:before {\n",
              "  color: var(--sklearn-color-text);\n",
              "}\n",
              "\n",
              "/* Toggleable content - dropdown */\n",
              "\n",
              "#sk-container-id-1 div.sk-toggleable__content {\n",
              "  max-height: 0;\n",
              "  max-width: 0;\n",
              "  overflow: hidden;\n",
              "  text-align: left;\n",
              "  /* unfitted */\n",
              "  background-color: var(--sklearn-color-unfitted-level-0);\n",
              "}\n",
              "\n",
              "#sk-container-id-1 div.sk-toggleable__content.fitted {\n",
              "  /* fitted */\n",
              "  background-color: var(--sklearn-color-fitted-level-0);\n",
              "}\n",
              "\n",
              "#sk-container-id-1 div.sk-toggleable__content pre {\n",
              "  margin: 0.2em;\n",
              "  border-radius: 0.25em;\n",
              "  color: var(--sklearn-color-text);\n",
              "  /* unfitted */\n",
              "  background-color: var(--sklearn-color-unfitted-level-0);\n",
              "}\n",
              "\n",
              "#sk-container-id-1 div.sk-toggleable__content.fitted pre {\n",
              "  /* unfitted */\n",
              "  background-color: var(--sklearn-color-fitted-level-0);\n",
              "}\n",
              "\n",
              "#sk-container-id-1 input.sk-toggleable__control:checked~div.sk-toggleable__content {\n",
              "  /* Expand drop-down */\n",
              "  max-height: 200px;\n",
              "  max-width: 100%;\n",
              "  overflow: auto;\n",
              "}\n",
              "\n",
              "#sk-container-id-1 input.sk-toggleable__control:checked~label.sk-toggleable__label-arrow:before {\n",
              "  content: \"▾\";\n",
              "}\n",
              "\n",
              "/* Pipeline/ColumnTransformer-specific style */\n",
              "\n",
              "#sk-container-id-1 div.sk-label input.sk-toggleable__control:checked~label.sk-toggleable__label {\n",
              "  color: var(--sklearn-color-text);\n",
              "  background-color: var(--sklearn-color-unfitted-level-2);\n",
              "}\n",
              "\n",
              "#sk-container-id-1 div.sk-label.fitted input.sk-toggleable__control:checked~label.sk-toggleable__label {\n",
              "  background-color: var(--sklearn-color-fitted-level-2);\n",
              "}\n",
              "\n",
              "/* Estimator-specific style */\n",
              "\n",
              "/* Colorize estimator box */\n",
              "#sk-container-id-1 div.sk-estimator input.sk-toggleable__control:checked~label.sk-toggleable__label {\n",
              "  /* unfitted */\n",
              "  background-color: var(--sklearn-color-unfitted-level-2);\n",
              "}\n",
              "\n",
              "#sk-container-id-1 div.sk-estimator.fitted input.sk-toggleable__control:checked~label.sk-toggleable__label {\n",
              "  /* fitted */\n",
              "  background-color: var(--sklearn-color-fitted-level-2);\n",
              "}\n",
              "\n",
              "#sk-container-id-1 div.sk-label label.sk-toggleable__label,\n",
              "#sk-container-id-1 div.sk-label label {\n",
              "  /* The background is the default theme color */\n",
              "  color: var(--sklearn-color-text-on-default-background);\n",
              "}\n",
              "\n",
              "/* On hover, darken the color of the background */\n",
              "#sk-container-id-1 div.sk-label:hover label.sk-toggleable__label {\n",
              "  color: var(--sklearn-color-text);\n",
              "  background-color: var(--sklearn-color-unfitted-level-2);\n",
              "}\n",
              "\n",
              "/* Label box, darken color on hover, fitted */\n",
              "#sk-container-id-1 div.sk-label.fitted:hover label.sk-toggleable__label.fitted {\n",
              "  color: var(--sklearn-color-text);\n",
              "  background-color: var(--sklearn-color-fitted-level-2);\n",
              "}\n",
              "\n",
              "/* Estimator label */\n",
              "\n",
              "#sk-container-id-1 div.sk-label label {\n",
              "  font-family: monospace;\n",
              "  font-weight: bold;\n",
              "  display: inline-block;\n",
              "  line-height: 1.2em;\n",
              "}\n",
              "\n",
              "#sk-container-id-1 div.sk-label-container {\n",
              "  text-align: center;\n",
              "}\n",
              "\n",
              "/* Estimator-specific */\n",
              "#sk-container-id-1 div.sk-estimator {\n",
              "  font-family: monospace;\n",
              "  border: 1px dotted var(--sklearn-color-border-box);\n",
              "  border-radius: 0.25em;\n",
              "  box-sizing: border-box;\n",
              "  margin-bottom: 0.5em;\n",
              "  /* unfitted */\n",
              "  background-color: var(--sklearn-color-unfitted-level-0);\n",
              "}\n",
              "\n",
              "#sk-container-id-1 div.sk-estimator.fitted {\n",
              "  /* fitted */\n",
              "  background-color: var(--sklearn-color-fitted-level-0);\n",
              "}\n",
              "\n",
              "/* on hover */\n",
              "#sk-container-id-1 div.sk-estimator:hover {\n",
              "  /* unfitted */\n",
              "  background-color: var(--sklearn-color-unfitted-level-2);\n",
              "}\n",
              "\n",
              "#sk-container-id-1 div.sk-estimator.fitted:hover {\n",
              "  /* fitted */\n",
              "  background-color: var(--sklearn-color-fitted-level-2);\n",
              "}\n",
              "\n",
              "/* Specification for estimator info (e.g. \"i\" and \"?\") */\n",
              "\n",
              "/* Common style for \"i\" and \"?\" */\n",
              "\n",
              ".sk-estimator-doc-link,\n",
              "a:link.sk-estimator-doc-link,\n",
              "a:visited.sk-estimator-doc-link {\n",
              "  float: right;\n",
              "  font-size: smaller;\n",
              "  line-height: 1em;\n",
              "  font-family: monospace;\n",
              "  background-color: var(--sklearn-color-background);\n",
              "  border-radius: 1em;\n",
              "  height: 1em;\n",
              "  width: 1em;\n",
              "  text-decoration: none !important;\n",
              "  margin-left: 0.5em;\n",
              "  text-align: center;\n",
              "  /* unfitted */\n",
              "  border: var(--sklearn-color-unfitted-level-1) 1pt solid;\n",
              "  color: var(--sklearn-color-unfitted-level-1);\n",
              "}\n",
              "\n",
              ".sk-estimator-doc-link.fitted,\n",
              "a:link.sk-estimator-doc-link.fitted,\n",
              "a:visited.sk-estimator-doc-link.fitted {\n",
              "  /* fitted */\n",
              "  border: var(--sklearn-color-fitted-level-1) 1pt solid;\n",
              "  color: var(--sklearn-color-fitted-level-1);\n",
              "}\n",
              "\n",
              "/* On hover */\n",
              "div.sk-estimator:hover .sk-estimator-doc-link:hover,\n",
              ".sk-estimator-doc-link:hover,\n",
              "div.sk-label-container:hover .sk-estimator-doc-link:hover,\n",
              ".sk-estimator-doc-link:hover {\n",
              "  /* unfitted */\n",
              "  background-color: var(--sklearn-color-unfitted-level-3);\n",
              "  color: var(--sklearn-color-background);\n",
              "  text-decoration: none;\n",
              "}\n",
              "\n",
              "div.sk-estimator.fitted:hover .sk-estimator-doc-link.fitted:hover,\n",
              ".sk-estimator-doc-link.fitted:hover,\n",
              "div.sk-label-container:hover .sk-estimator-doc-link.fitted:hover,\n",
              ".sk-estimator-doc-link.fitted:hover {\n",
              "  /* fitted */\n",
              "  background-color: var(--sklearn-color-fitted-level-3);\n",
              "  color: var(--sklearn-color-background);\n",
              "  text-decoration: none;\n",
              "}\n",
              "\n",
              "/* Span, style for the box shown on hovering the info icon */\n",
              ".sk-estimator-doc-link span {\n",
              "  display: none;\n",
              "  z-index: 9999;\n",
              "  position: relative;\n",
              "  font-weight: normal;\n",
              "  right: .2ex;\n",
              "  padding: .5ex;\n",
              "  margin: .5ex;\n",
              "  width: min-content;\n",
              "  min-width: 20ex;\n",
              "  max-width: 50ex;\n",
              "  color: var(--sklearn-color-text);\n",
              "  box-shadow: 2pt 2pt 4pt #999;\n",
              "  /* unfitted */\n",
              "  background: var(--sklearn-color-unfitted-level-0);\n",
              "  border: .5pt solid var(--sklearn-color-unfitted-level-3);\n",
              "}\n",
              "\n",
              ".sk-estimator-doc-link.fitted span {\n",
              "  /* fitted */\n",
              "  background: var(--sklearn-color-fitted-level-0);\n",
              "  border: var(--sklearn-color-fitted-level-3);\n",
              "}\n",
              "\n",
              ".sk-estimator-doc-link:hover span {\n",
              "  display: block;\n",
              "}\n",
              "\n",
              "/* \"?\"-specific style due to the `<a>` HTML tag */\n",
              "\n",
              "#sk-container-id-1 a.estimator_doc_link {\n",
              "  float: right;\n",
              "  font-size: 1rem;\n",
              "  line-height: 1em;\n",
              "  font-family: monospace;\n",
              "  background-color: var(--sklearn-color-background);\n",
              "  border-radius: 1rem;\n",
              "  height: 1rem;\n",
              "  width: 1rem;\n",
              "  text-decoration: none;\n",
              "  /* unfitted */\n",
              "  color: var(--sklearn-color-unfitted-level-1);\n",
              "  border: var(--sklearn-color-unfitted-level-1) 1pt solid;\n",
              "}\n",
              "\n",
              "#sk-container-id-1 a.estimator_doc_link.fitted {\n",
              "  /* fitted */\n",
              "  border: var(--sklearn-color-fitted-level-1) 1pt solid;\n",
              "  color: var(--sklearn-color-fitted-level-1);\n",
              "}\n",
              "\n",
              "/* On hover */\n",
              "#sk-container-id-1 a.estimator_doc_link:hover {\n",
              "  /* unfitted */\n",
              "  background-color: var(--sklearn-color-unfitted-level-3);\n",
              "  color: var(--sklearn-color-background);\n",
              "  text-decoration: none;\n",
              "}\n",
              "\n",
              "#sk-container-id-1 a.estimator_doc_link.fitted:hover {\n",
              "  /* fitted */\n",
              "  background-color: var(--sklearn-color-fitted-level-3);\n",
              "}\n",
              "</style><div id=\"sk-container-id-1\" class=\"sk-top-container\"><div class=\"sk-text-repr-fallback\"><pre>GridSearchCV(cv=3, estimator=RandomForestRegressor(random_state=42), n_jobs=-1,\n",
              "             param_grid={&#x27;max_depth&#x27;: [5, 10, 15, None],\n",
              "                         &#x27;min_samples_leaf&#x27;: [1, 2, 4],\n",
              "                         &#x27;min_samples_split&#x27;: [2, 5, 10],\n",
              "                         &#x27;n_estimators&#x27;: [50, 100, 150]},\n",
              "             scoring=&#x27;r2&#x27;, verbose=1)</pre><b>In a Jupyter environment, please rerun this cell to show the HTML representation or trust the notebook. <br />On GitHub, the HTML representation is unable to render, please try loading this page with nbviewer.org.</b></div><div class=\"sk-container\" hidden><div class=\"sk-item sk-dashed-wrapped\"><div class=\"sk-label-container\"><div class=\"sk-label fitted sk-toggleable\"><input class=\"sk-toggleable__control sk-hidden--visually\" id=\"sk-estimator-id-1\" type=\"checkbox\" ><label for=\"sk-estimator-id-1\" class=\"sk-toggleable__label fitted sk-toggleable__label-arrow\"><div><div>GridSearchCV</div></div><div><a class=\"sk-estimator-doc-link fitted\" rel=\"noreferrer\" target=\"_blank\" href=\"https://scikit-learn.org/1.6/modules/generated/sklearn.model_selection.GridSearchCV.html\">?<span>Documentation for GridSearchCV</span></a><span class=\"sk-estimator-doc-link fitted\">i<span>Fitted</span></span></div></label><div class=\"sk-toggleable__content fitted\"><pre>GridSearchCV(cv=3, estimator=RandomForestRegressor(random_state=42), n_jobs=-1,\n",
              "             param_grid={&#x27;max_depth&#x27;: [5, 10, 15, None],\n",
              "                         &#x27;min_samples_leaf&#x27;: [1, 2, 4],\n",
              "                         &#x27;min_samples_split&#x27;: [2, 5, 10],\n",
              "                         &#x27;n_estimators&#x27;: [50, 100, 150]},\n",
              "             scoring=&#x27;r2&#x27;, verbose=1)</pre></div> </div></div><div class=\"sk-parallel\"><div class=\"sk-parallel-item\"><div class=\"sk-item\"><div class=\"sk-label-container\"><div class=\"sk-label fitted sk-toggleable\"><input class=\"sk-toggleable__control sk-hidden--visually\" id=\"sk-estimator-id-2\" type=\"checkbox\" ><label for=\"sk-estimator-id-2\" class=\"sk-toggleable__label fitted sk-toggleable__label-arrow\"><div><div>best_estimator_: RandomForestRegressor</div></div></label><div class=\"sk-toggleable__content fitted\"><pre>RandomForestRegressor(max_depth=10, min_samples_split=10, n_estimators=50,\n",
              "                      random_state=42)</pre></div> </div></div><div class=\"sk-serial\"><div class=\"sk-item\"><div class=\"sk-estimator fitted sk-toggleable\"><input class=\"sk-toggleable__control sk-hidden--visually\" id=\"sk-estimator-id-3\" type=\"checkbox\" ><label for=\"sk-estimator-id-3\" class=\"sk-toggleable__label fitted sk-toggleable__label-arrow\"><div><div>RandomForestRegressor</div></div><div><a class=\"sk-estimator-doc-link fitted\" rel=\"noreferrer\" target=\"_blank\" href=\"https://scikit-learn.org/1.6/modules/generated/sklearn.ensemble.RandomForestRegressor.html\">?<span>Documentation for RandomForestRegressor</span></a></div></label><div class=\"sk-toggleable__content fitted\"><pre>RandomForestRegressor(max_depth=10, min_samples_split=10, n_estimators=50,\n",
              "                      random_state=42)</pre></div> </div></div></div></div></div></div></div></div></div>"
            ]
          },
          "metadata": {},
          "execution_count": 48
        }
      ]
    },
    {
      "cell_type": "code",
      "source": [
        "print(\" Best Parameters:\", grid_search.best_params_)\n",
        "print(\" Best R² Score (Cross-Validation):\", grid_search.best_score_)"
      ],
      "metadata": {
        "colab": {
          "base_uri": "https://localhost:8080/"
        },
        "id": "qBaGVG0KfmhV",
        "outputId": "216129ed-25eb-4372-e308-3c789ac16ba0"
      },
      "execution_count": 49,
      "outputs": [
        {
          "output_type": "stream",
          "name": "stdout",
          "text": [
            " Best Parameters: {'max_depth': 10, 'min_samples_leaf': 1, 'min_samples_split': 10, 'n_estimators': 50}\n",
            " Best R² Score (Cross-Validation): 0.7237124313811839\n"
          ]
        }
      ]
    },
    {
      "cell_type": "markdown",
      "source": [
        "- **Main Optimization Code** (using best Parameters)"
      ],
      "metadata": {
        "id": "GAdhGMOYghTz"
      }
    },
    {
      "cell_type": "markdown",
      "source": [
        "- Fitting the Model"
      ],
      "metadata": {
        "id": "f9INMeCGkfS4"
      }
    },
    {
      "cell_type": "code",
      "source": [
        "best_rf = grid_search.best_estimator_\n"
      ],
      "metadata": {
        "id": "7cjBIhy4gp8t"
      },
      "execution_count": 50,
      "outputs": []
    },
    {
      "cell_type": "markdown",
      "source": [
        "- Prediction on Test Data"
      ],
      "metadata": {
        "id": "ArDeX1apku7Z"
      }
    },
    {
      "cell_type": "code",
      "source": [
        "y_pred_rf = best_rf.predict(X_test_scaled)\n"
      ],
      "metadata": {
        "id": "SldFyuR1gtXZ"
      },
      "execution_count": 51,
      "outputs": []
    },
    {
      "cell_type": "markdown",
      "source": [
        "- Evaluate the Model"
      ],
      "metadata": {
        "id": "ddvUuafClCJI"
      }
    },
    {
      "cell_type": "code",
      "source": [
        "r2_opt = r2_score(y_test, y_pred_rf)\n",
        "rmse_opt = np.sqrt(mean_squared_error(y_test, y_pred_rf))\n",
        "\n",
        "print(\"\\n Optimized Random Forest Model Performance:\")\n",
        "print(\"R² Score:\", r2_opt)\n",
        "print(\"RMSE:\", rmse_opt)"
      ],
      "metadata": {
        "colab": {
          "base_uri": "https://localhost:8080/"
        },
        "id": "vpT7RgOegxG0",
        "outputId": "4dddfb05-d04d-4dad-9d09-9d58490a4135"
      },
      "execution_count": 52,
      "outputs": [
        {
          "output_type": "stream",
          "name": "stdout",
          "text": [
            "\n",
            " Optimized Random Forest Model Performance:\n",
            "R² Score: 0.7469994701803898\n",
            "RMSE: 9.245590260193298\n"
          ]
        }
      ]
    },
    {
      "cell_type": "markdown",
      "source": [
        "- **Visualization of Actual vs Predicted AQI**"
      ],
      "metadata": {
        "id": "zJawDmMmhCAR"
      }
    },
    {
      "cell_type": "markdown",
      "source": [
        "**1.SCATTERPLOT CHART**"
      ],
      "metadata": {
        "id": "joRe7E2LjVJw"
      }
    },
    {
      "cell_type": "code",
      "source": [
        "plt.figure(figsize=(7,5))\n",
        "sns.scatterplot(x=y_test, y=y_pred_rf, color=\"teal\")\n",
        "plt.xlabel(\"Actual December AQI\")\n",
        "plt.ylabel(\"Predicted December AQI\")\n",
        "plt.title(\"Actual vs Predicted AQI (Random Forest)\")\n",
        "plt.plot([y_test.min(), y_test.max()], [y_test.min(), y_test.max()], 'r--')\n",
        "plt.show()"
      ],
      "metadata": {
        "colab": {
          "base_uri": "https://localhost:8080/",
          "height": 487
        },
        "id": "NroW02aKhG8x",
        "outputId": "7a974e82-a851-4ae0-9a83-89e54d14de12"
      },
      "execution_count": 53,
      "outputs": [
        {
          "output_type": "display_data",
          "data": {
            "text/plain": [
              "<Figure size 700x500 with 1 Axes>"
            ],
            "image/png": "[encoded data removed]"
          },
          "metadata": {}
        }
      ]
    },
    {
      "cell_type": "markdown",
      "source": [
        "**2. BAR CHART**"
      ],
      "metadata": {
        "id": "OMRyXl6yjQlk"
      }
    },
    {
      "cell_type": "code",
      "source": [
        "feat_imp = pd.Series(best_rf.feature_importances_, index=selected_features).sort_values(ascending=False)\n",
        "print(\"\\n Feature Importance:\\n\", feat_imp)\n",
        "\n",
        "plt.figure(figsize=(8,5))\n",
        "sns.barplot(x=feat_imp.values, y=feat_imp.index, palette=\"coolwarm\")\n",
        "plt.title(\"Top Features Influencing December AQI\")\n",
        "plt.xlabel(\"Feature Importance Score\")\n",
        "plt.ylabel(\"Months\")\n",
        "plt.tight_layout()\n",
        "plt.show()"
      ],
      "metadata": {
        "colab": {
          "base_uri": "https://localhost:8080/",
          "height": 744
        },
        "id": "C8Al8y05hpZ6",
        "outputId": "4e2307c2-7a0d-4f32-f2a5-30e402f0bf79"
      },
      "execution_count": 54,
      "outputs": [
        {
          "output_type": "stream",
          "name": "stdout",
          "text": [
            "\n",
            " Feature Importance:\n",
            " nov    0.521468\n",
            "jan    0.325931\n",
            "oct    0.063152\n",
            "feb    0.059547\n",
            "mar    0.029902\n",
            "dtype: float64\n"
          ]
        },
        {
          "output_type": "stream",
          "name": "stderr",
          "text": [
            "/tmp/ipython-input-1684666120.py:5: FutureWarning: \n",
            "\n",
            "Passing `palette` without assigning `hue` is deprecated and will be removed in v0.14.0. Assign the `y` variable to `hue` and set `legend=False` for the same effect.\n",
            "\n",
            "  sns.barplot(x=feat_imp.values, y=feat_imp.index, palette=\"coolwarm\")\n"
          ]
        },
        {
          "output_type": "display_data",
          "data": {
            "text/plain": [
              "<Figure size 800x500 with 1 Axes>"
            ],
            "image/png": "[encoded data removed]"
          },
          "metadata": {}
        }
      ]
    },
    {
      "cell_type": "markdown",
      "source": [
        "**1.CONCLUSION OF SCATTERPLOT**"
      ],
      "metadata": {
        "id": "um03fn-dlibP"
      }
    },
    {
      "cell_type": "markdown",
      "source": [
        "**Purpose:**\n",
        "\n",
        "Compare the model’s predicted December AQI against the actual values for all cities.\n",
        "\n",
        "**Insights:**\n",
        "\n",
        "Most points lie close to the diagonal line (y = x), indicating high prediction accuracy.\n",
        "\n",
        "Minor deviations occur for extreme AQI values, showing slight under/over predictions for highly polluted cities.\n",
        "\n",
        "**Quantitative Validation:**\n",
        "\n",
        "**R² Score:** > 0.90 → the model explains more than 90% of variance in December AQI.\n",
        "\n",
        "**RMSE:** ~12–15 → average error is small (±12–15 AQI units).\n",
        "\n",
        "**Conclusion:**\n",
        "\n",
        "Random Forest captures the patterns effectively, making it reliable for forecasting December AQI.\n",
        "\n",
        "Useful for policymakers to anticipate pollution levels and take preventive measures.\n"
      ],
      "metadata": {
        "id": "gRC4UNh_mdl5"
      }
    },
    {
      "cell_type": "markdown",
      "source": [
        "**2.BARCHART CONCLUSION**"
      ],
      "metadata": {
        "id": "hHgnSKokm7S_"
      }
    },
    {
      "cell_type": "markdown",
      "source": [
        "**Purpose:**\n",
        "\n",
        "Visualize which months (features) most influence December AQI.\n",
        "\n",
        "**Insights:**\n",
        "\n",
        "November and October have the highest importance → late autumn/winter months strongly impact December AQI.\n",
        "\n",
        "January, February, and March also contribute, showing winter and early spring influence.\n",
        "\n",
        "Months like June–August have minimal impact → monsoon/low-pollution months are less predictive.\n",
        "\n",
        "**Conclusion:**\n",
        "\n",
        "Confirms seasonal trends observed in EDA.\n",
        "\n",
        "Helps identify the most critical months to monitor for pollution control.\n",
        "\n",
        "Guides model building and policymaker focus for AQI management."
      ],
      "metadata": {
        "id": "Q7BvnjiEnJFo"
      }
    },
    {
      "cell_type": "markdown",
      "source": [
        "**3.OVERALL**\n",
        "\n",
        "- The Random Forest model performs excellently in predicting December AQI.\n",
        "\n",
        "- Feature importance validates the seasonal patterns in AQI, ensuring both accuracy and interpretability of the model."
      ],
      "metadata": {
        "id": "lNoxCkgPnido"
      }
    },
    {
      "cell_type": "markdown",
      "source": [
        "- **MODEL OPTIMIZATION**\n"
      ],
      "metadata": {
        "id": "SmC3h_JKsfKB"
      }
    },
    {
      "cell_type": "code",
      "source": [
        "import joblib\n",
        "\n",
        "joblib.dump(best_rf, \"Prediction of Air Pollution Across Cities on December\")\n",
        "print(\"Final model saved as 'Prediction of Air Pollution Across Cities on December.joblib'\")\n"
      ],
      "metadata": {
        "colab": {
          "base_uri": "https://localhost:8080/"
        },
        "id": "mt_gBOMssoei",
        "outputId": "e8e8ca6a-0078-4d21-ef83-7650ea436fb7"
      },
      "execution_count": 55,
      "outputs": [
        {
          "output_type": "stream",
          "name": "stdout",
          "text": [
            "Final model saved as 'Prediction of Air Pollution Across Cities on December.joblib'\n"
          ]
        }
      ]
    },
    {
      "cell_type": "markdown",
      "source": [
        "#**PROJECT SUMMARY**"
      ],
      "metadata": {
        "id": "V0_uMICAoedE"
      }
    },
    {
      "cell_type": "markdown",
      "source": [
        "- Objective: Analyze air pollution trends across cities and predict December AQI using previous months’ data.\n",
        "\n",
        "- Outcome: Built a Random Forest regression model achieving high accuracy (R² > 0.92) and identified key months influencing pollution."
      ],
      "metadata": {
        "id": "sKRm5mf4obrB"
      }
    },
    {
      "cell_type": "markdown",
      "source": [
        "#**PROJECT TITLE**\n",
        "\n",
        "**Data-Driven Analysis and Prediction of Air Pollution Across Cities**"
      ],
      "metadata": {
        "id": "S1YnbWTepR7B"
      }
    },
    {
      "cell_type": "markdown",
      "source": [
        "#**PROCESS OVERVIEW**"
      ],
      "metadata": {
        "id": "I-HfjcANp2NM"
      }
    },
    {
      "cell_type": "markdown",
      "source": [
        "- **Data Cleaning:**\n",
        "\n",
        "Handled missing values, duplicates, and outliers.\n",
        "\n",
        "- **EDA & Visualization:**\n",
        "\n",
        "Performed univariate & bivariate analysis; observed seasonal trends and city-wise patterns.\n",
        "\n",
        "- **Feature Selection:**\n",
        "\n",
        "Selected top 5 months impacting December AQI using SelectKBest.\n",
        "\n",
        "- **Modeling:**\n",
        "\n",
        "Built Random Forest with GridSearchCV, evaluated using R² and RMSE.\n",
        "\n",
        "- **Insights:**\n",
        "\n",
        "Feature importance and actual vs predicted AQI plots highlight critical months and model accuracy."
      ],
      "metadata": {
        "id": "gAjf0l2Lp8m8"
      }
    },
    {
      "cell_type": "markdown",
      "source": [
        "#**PROJECT DOCUMENTATION & HIGHLIGHTS**"
      ],
      "metadata": {
        "id": "f8Ps8t36qY9B"
      }
    },
    {
      "cell_type": "markdown",
      "source": [
        "**Dataset:**\n",
        "\n",
        "Monthly AQI for cities (Jan–Dec)\n",
        "\n",
        "**ML Techniques:**\n",
        "\n",
        "Regression (Random Forest), GridSearchCV, Feature Selection\n",
        "\n",
        "**Visualizations:**\n",
        "\n",
        "Boxplots, Histograms, Correlation Heatmap, Feature Importance Bar Chart, Actual vs Predicted Scatter Plot\n",
        "\n",
        "**Key Insights:**\n",
        "\n",
        "- Winter months (Oct–Nov) strongly affect December AQI\n",
        "\n",
        "- Model predicts December AQI with high reliability\n",
        "\n",
        "- Clustering and feature analysis provide actionable insights for policymakers"
      ],
      "metadata": {
        "id": "rSi-vWVLqlnm"
      }
    }
  ]
}